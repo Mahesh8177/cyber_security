{
 "cells": [
  {
   "cell_type": "code",
   "execution_count": 1,
   "id": "a104b162-9125-4e25-a24a-9ac43c05b135",
   "metadata": {},
   "outputs": [
    {
     "name": "stderr",
     "output_type": "stream",
     "text": [
      "\n",
      "A module that was compiled using NumPy 1.x cannot be run in\n",
      "NumPy 2.0.0 as it may crash. To support both 1.x and 2.x\n",
      "versions of NumPy, modules must be compiled with NumPy 2.0.\n",
      "Some module may need to rebuild instead e.g. with 'pybind11>=2.12'.\n",
      "\n",
      "If you are a user of the module, the easiest solution will be to\n",
      "downgrade to 'numpy<2' or try to upgrade the affected module.\n",
      "We expect that some modules will need time to support NumPy 2.\n",
      "\n",
      "Traceback (most recent call last):  File \"<frozen runpy>\", line 198, in _run_module_as_main\n",
      "  File \"<frozen runpy>\", line 88, in _run_code\n",
      "  File \"C:\\Users\\PC\\anaconda3\\Lib\\site-packages\\ipykernel_launcher.py\", line 17, in <module>\n",
      "    app.launch_new_instance()\n",
      "  File \"C:\\Users\\PC\\anaconda3\\Lib\\site-packages\\traitlets\\config\\application.py\", line 992, in launch_instance\n",
      "    app.start()\n",
      "  File \"C:\\Users\\PC\\anaconda3\\Lib\\site-packages\\ipykernel\\kernelapp.py\", line 701, in start\n",
      "    self.io_loop.start()\n",
      "  File \"C:\\Users\\PC\\anaconda3\\Lib\\site-packages\\tornado\\platform\\asyncio.py\", line 195, in start\n",
      "    self.asyncio_loop.run_forever()\n",
      "  File \"C:\\Users\\PC\\anaconda3\\Lib\\asyncio\\windows_events.py\", line 321, in run_forever\n",
      "    super().run_forever()\n",
      "  File \"C:\\Users\\PC\\anaconda3\\Lib\\asyncio\\base_events.py\", line 607, in run_forever\n",
      "    self._run_once()\n",
      "  File \"C:\\Users\\PC\\anaconda3\\Lib\\asyncio\\base_events.py\", line 1922, in _run_once\n",
      "    handle._run()\n",
      "  File \"C:\\Users\\PC\\anaconda3\\Lib\\asyncio\\events.py\", line 80, in _run\n",
      "    self._context.run(self._callback, *self._args)\n",
      "  File \"C:\\Users\\PC\\anaconda3\\Lib\\site-packages\\ipykernel\\kernelbase.py\", line 534, in dispatch_queue\n",
      "    await self.process_one()\n",
      "  File \"C:\\Users\\PC\\anaconda3\\Lib\\site-packages\\ipykernel\\kernelbase.py\", line 523, in process_one\n",
      "    await dispatch(*args)\n",
      "  File \"C:\\Users\\PC\\anaconda3\\Lib\\site-packages\\ipykernel\\kernelbase.py\", line 429, in dispatch_shell\n",
      "    await result\n",
      "  File \"C:\\Users\\PC\\anaconda3\\Lib\\site-packages\\ipykernel\\kernelbase.py\", line 767, in execute_request\n",
      "    reply_content = await reply_content\n",
      "  File \"C:\\Users\\PC\\anaconda3\\Lib\\site-packages\\ipykernel\\ipkernel.py\", line 429, in do_execute\n",
      "    res = shell.run_cell(\n",
      "  File \"C:\\Users\\PC\\anaconda3\\Lib\\site-packages\\ipykernel\\zmqshell.py\", line 549, in run_cell\n",
      "    return super().run_cell(*args, **kwargs)\n",
      "  File \"C:\\Users\\PC\\anaconda3\\Lib\\site-packages\\IPython\\core\\interactiveshell.py\", line 3051, in run_cell\n",
      "    result = self._run_cell(\n",
      "  File \"C:\\Users\\PC\\anaconda3\\Lib\\site-packages\\IPython\\core\\interactiveshell.py\", line 3106, in _run_cell\n",
      "    result = runner(coro)\n",
      "  File \"C:\\Users\\PC\\anaconda3\\Lib\\site-packages\\IPython\\core\\async_helpers.py\", line 129, in _pseudo_sync_runner\n",
      "    coro.send(None)\n",
      "  File \"C:\\Users\\PC\\anaconda3\\Lib\\site-packages\\IPython\\core\\interactiveshell.py\", line 3311, in run_cell_async\n",
      "    has_raised = await self.run_ast_nodes(code_ast.body, cell_name,\n",
      "  File \"C:\\Users\\PC\\anaconda3\\Lib\\site-packages\\IPython\\core\\interactiveshell.py\", line 3493, in run_ast_nodes\n",
      "    if await self.run_code(code, result, async_=asy):\n",
      "  File \"C:\\Users\\PC\\anaconda3\\Lib\\site-packages\\IPython\\core\\interactiveshell.py\", line 3553, in run_code\n",
      "    exec(code_obj, self.user_global_ns, self.user_ns)\n",
      "  File \"C:\\Users\\PC\\AppData\\Local\\Temp\\ipykernel_7932\\3849999642.py\", line 1, in <module>\n",
      "    import pandas as pd\n",
      "  File \"C:\\Users\\PC\\anaconda3\\Lib\\site-packages\\pandas\\__init__.py\", line 39, in <module>\n",
      "    from pandas.compat import (\n",
      "  File \"C:\\Users\\PC\\anaconda3\\Lib\\site-packages\\pandas\\compat\\__init__.py\", line 27, in <module>\n",
      "    from pandas.compat.pyarrow import (\n",
      "  File \"C:\\Users\\PC\\anaconda3\\Lib\\site-packages\\pandas\\compat\\pyarrow.py\", line 8, in <module>\n",
      "    import pyarrow as pa\n",
      "  File \"C:\\Users\\PC\\anaconda3\\Lib\\site-packages\\pyarrow\\__init__.py\", line 65, in <module>\n",
      "    import pyarrow.lib as _lib\n"
     ]
    },
    {
     "ename": "AttributeError",
     "evalue": "_ARRAY_API not found",
     "output_type": "error",
     "traceback": [
      "\u001b[1;31m---------------------------------------------------------------------------\u001b[0m",
      "\u001b[1;31mAttributeError\u001b[0m                            Traceback (most recent call last)",
      "\u001b[1;31mAttributeError\u001b[0m: _ARRAY_API not found"
     ]
    },
    {
     "name": "stderr",
     "output_type": "stream",
     "text": [
      "\n",
      "A module that was compiled using NumPy 1.x cannot be run in\n",
      "NumPy 2.0.0 as it may crash. To support both 1.x and 2.x\n",
      "versions of NumPy, modules must be compiled with NumPy 2.0.\n",
      "Some module may need to rebuild instead e.g. with 'pybind11>=2.12'.\n",
      "\n",
      "If you are a user of the module, the easiest solution will be to\n",
      "downgrade to 'numpy<2' or try to upgrade the affected module.\n",
      "We expect that some modules will need time to support NumPy 2.\n",
      "\n",
      "Traceback (most recent call last):  File \"<frozen runpy>\", line 198, in _run_module_as_main\n",
      "  File \"<frozen runpy>\", line 88, in _run_code\n",
      "  File \"C:\\Users\\PC\\anaconda3\\Lib\\site-packages\\ipykernel_launcher.py\", line 17, in <module>\n",
      "    app.launch_new_instance()\n",
      "  File \"C:\\Users\\PC\\anaconda3\\Lib\\site-packages\\traitlets\\config\\application.py\", line 992, in launch_instance\n",
      "    app.start()\n",
      "  File \"C:\\Users\\PC\\anaconda3\\Lib\\site-packages\\ipykernel\\kernelapp.py\", line 701, in start\n",
      "    self.io_loop.start()\n",
      "  File \"C:\\Users\\PC\\anaconda3\\Lib\\site-packages\\tornado\\platform\\asyncio.py\", line 195, in start\n",
      "    self.asyncio_loop.run_forever()\n",
      "  File \"C:\\Users\\PC\\anaconda3\\Lib\\asyncio\\windows_events.py\", line 321, in run_forever\n",
      "    super().run_forever()\n",
      "  File \"C:\\Users\\PC\\anaconda3\\Lib\\asyncio\\base_events.py\", line 607, in run_forever\n",
      "    self._run_once()\n",
      "  File \"C:\\Users\\PC\\anaconda3\\Lib\\asyncio\\base_events.py\", line 1922, in _run_once\n",
      "    handle._run()\n",
      "  File \"C:\\Users\\PC\\anaconda3\\Lib\\asyncio\\events.py\", line 80, in _run\n",
      "    self._context.run(self._callback, *self._args)\n",
      "  File \"C:\\Users\\PC\\anaconda3\\Lib\\site-packages\\ipykernel\\kernelbase.py\", line 534, in dispatch_queue\n",
      "    await self.process_one()\n",
      "  File \"C:\\Users\\PC\\anaconda3\\Lib\\site-packages\\ipykernel\\kernelbase.py\", line 523, in process_one\n",
      "    await dispatch(*args)\n",
      "  File \"C:\\Users\\PC\\anaconda3\\Lib\\site-packages\\ipykernel\\kernelbase.py\", line 429, in dispatch_shell\n",
      "    await result\n",
      "  File \"C:\\Users\\PC\\anaconda3\\Lib\\site-packages\\ipykernel\\kernelbase.py\", line 767, in execute_request\n",
      "    reply_content = await reply_content\n",
      "  File \"C:\\Users\\PC\\anaconda3\\Lib\\site-packages\\ipykernel\\ipkernel.py\", line 429, in do_execute\n",
      "    res = shell.run_cell(\n",
      "  File \"C:\\Users\\PC\\anaconda3\\Lib\\site-packages\\ipykernel\\zmqshell.py\", line 549, in run_cell\n",
      "    return super().run_cell(*args, **kwargs)\n",
      "  File \"C:\\Users\\PC\\anaconda3\\Lib\\site-packages\\IPython\\core\\interactiveshell.py\", line 3051, in run_cell\n",
      "    result = self._run_cell(\n",
      "  File \"C:\\Users\\PC\\anaconda3\\Lib\\site-packages\\IPython\\core\\interactiveshell.py\", line 3106, in _run_cell\n",
      "    result = runner(coro)\n",
      "  File \"C:\\Users\\PC\\anaconda3\\Lib\\site-packages\\IPython\\core\\async_helpers.py\", line 129, in _pseudo_sync_runner\n",
      "    coro.send(None)\n",
      "  File \"C:\\Users\\PC\\anaconda3\\Lib\\site-packages\\IPython\\core\\interactiveshell.py\", line 3311, in run_cell_async\n",
      "    has_raised = await self.run_ast_nodes(code_ast.body, cell_name,\n",
      "  File \"C:\\Users\\PC\\anaconda3\\Lib\\site-packages\\IPython\\core\\interactiveshell.py\", line 3493, in run_ast_nodes\n",
      "    if await self.run_code(code, result, async_=asy):\n",
      "  File \"C:\\Users\\PC\\anaconda3\\Lib\\site-packages\\IPython\\core\\interactiveshell.py\", line 3553, in run_code\n",
      "    exec(code_obj, self.user_global_ns, self.user_ns)\n",
      "  File \"C:\\Users\\PC\\AppData\\Local\\Temp\\ipykernel_7932\\3849999642.py\", line 1, in <module>\n",
      "    import pandas as pd\n",
      "  File \"C:\\Users\\PC\\anaconda3\\Lib\\site-packages\\pandas\\__init__.py\", line 62, in <module>\n",
      "    from pandas.core.api import (\n",
      "  File \"C:\\Users\\PC\\anaconda3\\Lib\\site-packages\\pandas\\core\\api.py\", line 9, in <module>\n",
      "    from pandas.core.dtypes.dtypes import (\n",
      "  File \"C:\\Users\\PC\\anaconda3\\Lib\\site-packages\\pandas\\core\\dtypes\\dtypes.py\", line 24, in <module>\n",
      "    from pandas._libs import (\n",
      "  File \"C:\\Users\\PC\\anaconda3\\Lib\\site-packages\\pyarrow\\__init__.py\", line 65, in <module>\n",
      "    import pyarrow.lib as _lib\n"
     ]
    },
    {
     "ename": "AttributeError",
     "evalue": "_ARRAY_API not found",
     "output_type": "error",
     "traceback": [
      "\u001b[1;31m---------------------------------------------------------------------------\u001b[0m",
      "\u001b[1;31mAttributeError\u001b[0m                            Traceback (most recent call last)",
      "\u001b[1;31mAttributeError\u001b[0m: _ARRAY_API not found"
     ]
    },
    {
     "name": "stderr",
     "output_type": "stream",
     "text": [
      "\n",
      "A module that was compiled using NumPy 1.x cannot be run in\n",
      "NumPy 2.0.0 as it may crash. To support both 1.x and 2.x\n",
      "versions of NumPy, modules must be compiled with NumPy 2.0.\n",
      "Some module may need to rebuild instead e.g. with 'pybind11>=2.12'.\n",
      "\n",
      "If you are a user of the module, the easiest solution will be to\n",
      "downgrade to 'numpy<2' or try to upgrade the affected module.\n",
      "We expect that some modules will need time to support NumPy 2.\n",
      "\n",
      "Traceback (most recent call last):  File \"<frozen runpy>\", line 198, in _run_module_as_main\n",
      "  File \"<frozen runpy>\", line 88, in _run_code\n",
      "  File \"C:\\Users\\PC\\anaconda3\\Lib\\site-packages\\ipykernel_launcher.py\", line 17, in <module>\n",
      "    app.launch_new_instance()\n",
      "  File \"C:\\Users\\PC\\anaconda3\\Lib\\site-packages\\traitlets\\config\\application.py\", line 992, in launch_instance\n",
      "    app.start()\n",
      "  File \"C:\\Users\\PC\\anaconda3\\Lib\\site-packages\\ipykernel\\kernelapp.py\", line 701, in start\n",
      "    self.io_loop.start()\n",
      "  File \"C:\\Users\\PC\\anaconda3\\Lib\\site-packages\\tornado\\platform\\asyncio.py\", line 195, in start\n",
      "    self.asyncio_loop.run_forever()\n",
      "  File \"C:\\Users\\PC\\anaconda3\\Lib\\asyncio\\windows_events.py\", line 321, in run_forever\n",
      "    super().run_forever()\n",
      "  File \"C:\\Users\\PC\\anaconda3\\Lib\\asyncio\\base_events.py\", line 607, in run_forever\n",
      "    self._run_once()\n",
      "  File \"C:\\Users\\PC\\anaconda3\\Lib\\asyncio\\base_events.py\", line 1922, in _run_once\n",
      "    handle._run()\n",
      "  File \"C:\\Users\\PC\\anaconda3\\Lib\\asyncio\\events.py\", line 80, in _run\n",
      "    self._context.run(self._callback, *self._args)\n",
      "  File \"C:\\Users\\PC\\anaconda3\\Lib\\site-packages\\ipykernel\\kernelbase.py\", line 534, in dispatch_queue\n",
      "    await self.process_one()\n",
      "  File \"C:\\Users\\PC\\anaconda3\\Lib\\site-packages\\ipykernel\\kernelbase.py\", line 523, in process_one\n",
      "    await dispatch(*args)\n",
      "  File \"C:\\Users\\PC\\anaconda3\\Lib\\site-packages\\ipykernel\\kernelbase.py\", line 429, in dispatch_shell\n",
      "    await result\n",
      "  File \"C:\\Users\\PC\\anaconda3\\Lib\\site-packages\\ipykernel\\kernelbase.py\", line 767, in execute_request\n",
      "    reply_content = await reply_content\n",
      "  File \"C:\\Users\\PC\\anaconda3\\Lib\\site-packages\\ipykernel\\ipkernel.py\", line 429, in do_execute\n",
      "    res = shell.run_cell(\n",
      "  File \"C:\\Users\\PC\\anaconda3\\Lib\\site-packages\\ipykernel\\zmqshell.py\", line 549, in run_cell\n",
      "    return super().run_cell(*args, **kwargs)\n",
      "  File \"C:\\Users\\PC\\anaconda3\\Lib\\site-packages\\IPython\\core\\interactiveshell.py\", line 3051, in run_cell\n",
      "    result = self._run_cell(\n",
      "  File \"C:\\Users\\PC\\anaconda3\\Lib\\site-packages\\IPython\\core\\interactiveshell.py\", line 3106, in _run_cell\n",
      "    result = runner(coro)\n",
      "  File \"C:\\Users\\PC\\anaconda3\\Lib\\site-packages\\IPython\\core\\async_helpers.py\", line 129, in _pseudo_sync_runner\n",
      "    coro.send(None)\n",
      "  File \"C:\\Users\\PC\\anaconda3\\Lib\\site-packages\\IPython\\core\\interactiveshell.py\", line 3311, in run_cell_async\n",
      "    has_raised = await self.run_ast_nodes(code_ast.body, cell_name,\n",
      "  File \"C:\\Users\\PC\\anaconda3\\Lib\\site-packages\\IPython\\core\\interactiveshell.py\", line 3493, in run_ast_nodes\n",
      "    if await self.run_code(code, result, async_=asy):\n",
      "  File \"C:\\Users\\PC\\anaconda3\\Lib\\site-packages\\IPython\\core\\interactiveshell.py\", line 3553, in run_code\n",
      "    exec(code_obj, self.user_global_ns, self.user_ns)\n",
      "  File \"C:\\Users\\PC\\AppData\\Local\\Temp\\ipykernel_7932\\3849999642.py\", line 1, in <module>\n",
      "    import pandas as pd\n",
      "  File \"C:\\Users\\PC\\anaconda3\\Lib\\site-packages\\pandas\\__init__.py\", line 62, in <module>\n",
      "    from pandas.core.api import (\n",
      "  File \"C:\\Users\\PC\\anaconda3\\Lib\\site-packages\\pandas\\core\\api.py\", line 28, in <module>\n",
      "    from pandas.core.arrays import Categorical\n",
      "  File \"C:\\Users\\PC\\anaconda3\\Lib\\site-packages\\pandas\\core\\arrays\\__init__.py\", line 1, in <module>\n",
      "    from pandas.core.arrays.arrow import ArrowExtensionArray\n",
      "  File \"C:\\Users\\PC\\anaconda3\\Lib\\site-packages\\pandas\\core\\arrays\\arrow\\__init__.py\", line 5, in <module>\n",
      "    from pandas.core.arrays.arrow.array import ArrowExtensionArray\n",
      "  File \"C:\\Users\\PC\\anaconda3\\Lib\\site-packages\\pandas\\core\\arrays\\arrow\\array.py\", line 50, in <module>\n",
      "    from pandas.core import (\n",
      "  File \"C:\\Users\\PC\\anaconda3\\Lib\\site-packages\\pandas\\core\\ops\\__init__.py\", line 8, in <module>\n",
      "    from pandas.core.ops.array_ops import (\n",
      "  File \"C:\\Users\\PC\\anaconda3\\Lib\\site-packages\\pandas\\core\\ops\\array_ops.py\", line 56, in <module>\n",
      "    from pandas.core.computation import expressions\n",
      "  File \"C:\\Users\\PC\\anaconda3\\Lib\\site-packages\\pandas\\core\\computation\\expressions.py\", line 21, in <module>\n",
      "    from pandas.core.computation.check import NUMEXPR_INSTALLED\n",
      "  File \"C:\\Users\\PC\\anaconda3\\Lib\\site-packages\\pandas\\core\\computation\\check.py\", line 5, in <module>\n",
      "    ne = import_optional_dependency(\"numexpr\", errors=\"warn\")\n",
      "  File \"C:\\Users\\PC\\anaconda3\\Lib\\site-packages\\pandas\\compat\\_optional.py\", line 135, in import_optional_dependency\n",
      "    module = importlib.import_module(name)\n",
      "  File \"C:\\Users\\PC\\anaconda3\\Lib\\importlib\\__init__.py\", line 126, in import_module\n",
      "    return _bootstrap._gcd_import(name[level:], package, level)\n",
      "  File \"C:\\Users\\PC\\anaconda3\\Lib\\site-packages\\numexpr\\__init__.py\", line 24, in <module>\n",
      "    from numexpr.interpreter import MAX_THREADS, use_vml, __BLOCK_SIZE1__\n"
     ]
    },
    {
     "ename": "AttributeError",
     "evalue": "_ARRAY_API not found",
     "output_type": "error",
     "traceback": [
      "\u001b[1;31m---------------------------------------------------------------------------\u001b[0m",
      "\u001b[1;31mAttributeError\u001b[0m                            Traceback (most recent call last)",
      "\u001b[1;31mAttributeError\u001b[0m: _ARRAY_API not found"
     ]
    },
    {
     "name": "stderr",
     "output_type": "stream",
     "text": [
      "\n",
      "A module that was compiled using NumPy 1.x cannot be run in\n",
      "NumPy 2.0.0 as it may crash. To support both 1.x and 2.x\n",
      "versions of NumPy, modules must be compiled with NumPy 2.0.\n",
      "Some module may need to rebuild instead e.g. with 'pybind11>=2.12'.\n",
      "\n",
      "If you are a user of the module, the easiest solution will be to\n",
      "downgrade to 'numpy<2' or try to upgrade the affected module.\n",
      "We expect that some modules will need time to support NumPy 2.\n",
      "\n",
      "Traceback (most recent call last):  File \"<frozen runpy>\", line 198, in _run_module_as_main\n",
      "  File \"<frozen runpy>\", line 88, in _run_code\n",
      "  File \"C:\\Users\\PC\\anaconda3\\Lib\\site-packages\\ipykernel_launcher.py\", line 17, in <module>\n",
      "    app.launch_new_instance()\n",
      "  File \"C:\\Users\\PC\\anaconda3\\Lib\\site-packages\\traitlets\\config\\application.py\", line 992, in launch_instance\n",
      "    app.start()\n",
      "  File \"C:\\Users\\PC\\anaconda3\\Lib\\site-packages\\ipykernel\\kernelapp.py\", line 701, in start\n",
      "    self.io_loop.start()\n",
      "  File \"C:\\Users\\PC\\anaconda3\\Lib\\site-packages\\tornado\\platform\\asyncio.py\", line 195, in start\n",
      "    self.asyncio_loop.run_forever()\n",
      "  File \"C:\\Users\\PC\\anaconda3\\Lib\\asyncio\\windows_events.py\", line 321, in run_forever\n",
      "    super().run_forever()\n",
      "  File \"C:\\Users\\PC\\anaconda3\\Lib\\asyncio\\base_events.py\", line 607, in run_forever\n",
      "    self._run_once()\n",
      "  File \"C:\\Users\\PC\\anaconda3\\Lib\\asyncio\\base_events.py\", line 1922, in _run_once\n",
      "    handle._run()\n",
      "  File \"C:\\Users\\PC\\anaconda3\\Lib\\asyncio\\events.py\", line 80, in _run\n",
      "    self._context.run(self._callback, *self._args)\n",
      "  File \"C:\\Users\\PC\\anaconda3\\Lib\\site-packages\\ipykernel\\kernelbase.py\", line 534, in dispatch_queue\n",
      "    await self.process_one()\n",
      "  File \"C:\\Users\\PC\\anaconda3\\Lib\\site-packages\\ipykernel\\kernelbase.py\", line 523, in process_one\n",
      "    await dispatch(*args)\n",
      "  File \"C:\\Users\\PC\\anaconda3\\Lib\\site-packages\\ipykernel\\kernelbase.py\", line 429, in dispatch_shell\n",
      "    await result\n",
      "  File \"C:\\Users\\PC\\anaconda3\\Lib\\site-packages\\ipykernel\\kernelbase.py\", line 767, in execute_request\n",
      "    reply_content = await reply_content\n",
      "  File \"C:\\Users\\PC\\anaconda3\\Lib\\site-packages\\ipykernel\\ipkernel.py\", line 429, in do_execute\n",
      "    res = shell.run_cell(\n",
      "  File \"C:\\Users\\PC\\anaconda3\\Lib\\site-packages\\ipykernel\\zmqshell.py\", line 549, in run_cell\n",
      "    return super().run_cell(*args, **kwargs)\n",
      "  File \"C:\\Users\\PC\\anaconda3\\Lib\\site-packages\\IPython\\core\\interactiveshell.py\", line 3051, in run_cell\n",
      "    result = self._run_cell(\n",
      "  File \"C:\\Users\\PC\\anaconda3\\Lib\\site-packages\\IPython\\core\\interactiveshell.py\", line 3106, in _run_cell\n",
      "    result = runner(coro)\n",
      "  File \"C:\\Users\\PC\\anaconda3\\Lib\\site-packages\\IPython\\core\\async_helpers.py\", line 129, in _pseudo_sync_runner\n",
      "    coro.send(None)\n",
      "  File \"C:\\Users\\PC\\anaconda3\\Lib\\site-packages\\IPython\\core\\interactiveshell.py\", line 3311, in run_cell_async\n",
      "    has_raised = await self.run_ast_nodes(code_ast.body, cell_name,\n",
      "  File \"C:\\Users\\PC\\anaconda3\\Lib\\site-packages\\IPython\\core\\interactiveshell.py\", line 3493, in run_ast_nodes\n",
      "    if await self.run_code(code, result, async_=asy):\n",
      "  File \"C:\\Users\\PC\\anaconda3\\Lib\\site-packages\\IPython\\core\\interactiveshell.py\", line 3553, in run_code\n",
      "    exec(code_obj, self.user_global_ns, self.user_ns)\n",
      "  File \"C:\\Users\\PC\\AppData\\Local\\Temp\\ipykernel_7932\\3849999642.py\", line 1, in <module>\n",
      "    import pandas as pd\n",
      "  File \"C:\\Users\\PC\\anaconda3\\Lib\\site-packages\\pandas\\__init__.py\", line 62, in <module>\n",
      "    from pandas.core.api import (\n",
      "  File \"C:\\Users\\PC\\anaconda3\\Lib\\site-packages\\pandas\\core\\api.py\", line 28, in <module>\n",
      "    from pandas.core.arrays import Categorical\n",
      "  File \"C:\\Users\\PC\\anaconda3\\Lib\\site-packages\\pandas\\core\\arrays\\__init__.py\", line 1, in <module>\n",
      "    from pandas.core.arrays.arrow import ArrowExtensionArray\n",
      "  File \"C:\\Users\\PC\\anaconda3\\Lib\\site-packages\\pandas\\core\\arrays\\arrow\\__init__.py\", line 5, in <module>\n",
      "    from pandas.core.arrays.arrow.array import ArrowExtensionArray\n",
      "  File \"C:\\Users\\PC\\anaconda3\\Lib\\site-packages\\pandas\\core\\arrays\\arrow\\array.py\", line 64, in <module>\n",
      "    from pandas.core.arrays.masked import BaseMaskedArray\n",
      "  File \"C:\\Users\\PC\\anaconda3\\Lib\\site-packages\\pandas\\core\\arrays\\masked.py\", line 60, in <module>\n",
      "    from pandas.core import (\n",
      "  File \"C:\\Users\\PC\\anaconda3\\Lib\\site-packages\\pandas\\core\\nanops.py\", line 52, in <module>\n",
      "    bn = import_optional_dependency(\"bottleneck\", errors=\"warn\")\n",
      "  File \"C:\\Users\\PC\\anaconda3\\Lib\\site-packages\\pandas\\compat\\_optional.py\", line 135, in import_optional_dependency\n",
      "    module = importlib.import_module(name)\n",
      "  File \"C:\\Users\\PC\\anaconda3\\Lib\\importlib\\__init__.py\", line 126, in import_module\n",
      "    return _bootstrap._gcd_import(name[level:], package, level)\n",
      "  File \"C:\\Users\\PC\\anaconda3\\Lib\\site-packages\\bottleneck\\__init__.py\", line 7, in <module>\n",
      "    from .move import (move_argmax, move_argmin, move_max, move_mean, move_median,\n"
     ]
    },
    {
     "ename": "AttributeError",
     "evalue": "_ARRAY_API not found",
     "output_type": "error",
     "traceback": [
      "\u001b[1;31m---------------------------------------------------------------------------\u001b[0m",
      "\u001b[1;31mAttributeError\u001b[0m                            Traceback (most recent call last)",
      "\u001b[1;31mAttributeError\u001b[0m: _ARRAY_API not found"
     ]
    },
    {
     "ename": "AttributeError",
     "evalue": "module 'numpy' has no attribute 'bool8'",
     "output_type": "error",
     "traceback": [
      "\u001b[1;31m---------------------------------------------------------------------------\u001b[0m",
      "\u001b[1;31mAttributeError\u001b[0m                            Traceback (most recent call last)",
      "Cell \u001b[1;32mIn[1], line 9\u001b[0m\n\u001b[0;32m      6\u001b[0m \u001b[38;5;28;01mfrom\u001b[39;00m \u001b[38;5;21;01msklearn\u001b[39;00m\u001b[38;5;21;01m.\u001b[39;00m\u001b[38;5;21;01mpreprocessing\u001b[39;00m \u001b[38;5;28;01mimport\u001b[39;00m StandardScaler, LabelEncoder\n\u001b[0;32m      8\u001b[0m \u001b[38;5;28;01mimport\u001b[39;00m \u001b[38;5;21;01mseaborn\u001b[39;00m \u001b[38;5;28;01mas\u001b[39;00m \u001b[38;5;21;01msns\u001b[39;00m\n\u001b[1;32m----> 9\u001b[0m \u001b[38;5;28;01mimport\u001b[39;00m \u001b[38;5;21;01mplotly\u001b[39;00m\u001b[38;5;21;01m.\u001b[39;00m\u001b[38;5;21;01mexpress\u001b[39;00m \u001b[38;5;28;01mas\u001b[39;00m \u001b[38;5;21;01mpx\u001b[39;00m\n\u001b[0;32m     10\u001b[0m \u001b[38;5;28;01mimport\u001b[39;00m \u001b[38;5;21;01mmatplotlib\u001b[39;00m\u001b[38;5;21;01m.\u001b[39;00m\u001b[38;5;21;01mpyplot\u001b[39;00m \u001b[38;5;28;01mas\u001b[39;00m \u001b[38;5;21;01mplt\u001b[39;00m\n",
      "File \u001b[1;32m~\\anaconda3\\Lib\\site-packages\\plotly\\express\\__init__.py:15\u001b[0m\n\u001b[0;32m      9\u001b[0m \u001b[38;5;28;01mif\u001b[39;00m pd \u001b[38;5;129;01mis\u001b[39;00m \u001b[38;5;28;01mNone\u001b[39;00m:\n\u001b[0;32m     10\u001b[0m     \u001b[38;5;28;01mraise\u001b[39;00m \u001b[38;5;167;01mImportError\u001b[39;00m(\n\u001b[0;32m     11\u001b[0m \u001b[38;5;250m        \u001b[39m\u001b[38;5;124;03m\"\"\"\\\u001b[39;00m\n\u001b[0;32m     12\u001b[0m \u001b[38;5;124;03mPlotly express requires pandas to be installed.\"\"\"\u001b[39;00m\n\u001b[0;32m     13\u001b[0m     )\n\u001b[1;32m---> 15\u001b[0m \u001b[38;5;28;01mfrom\u001b[39;00m \u001b[38;5;21;01m.\u001b[39;00m\u001b[38;5;21;01m_imshow\u001b[39;00m \u001b[38;5;28;01mimport\u001b[39;00m imshow\n\u001b[0;32m     16\u001b[0m \u001b[38;5;28;01mfrom\u001b[39;00m \u001b[38;5;21;01m.\u001b[39;00m\u001b[38;5;21;01m_chart_types\u001b[39;00m \u001b[38;5;28;01mimport\u001b[39;00m (  \u001b[38;5;66;03m# noqa: F401\u001b[39;00m\n\u001b[0;32m     17\u001b[0m     scatter,\n\u001b[0;32m     18\u001b[0m     scatter_3d,\n\u001b[1;32m   (...)\u001b[0m\n\u001b[0;32m     51\u001b[0m     density_mapbox,\n\u001b[0;32m     52\u001b[0m )\n\u001b[0;32m     55\u001b[0m \u001b[38;5;28;01mfrom\u001b[39;00m \u001b[38;5;21;01m.\u001b[39;00m\u001b[38;5;21;01m_core\u001b[39;00m \u001b[38;5;28;01mimport\u001b[39;00m (  \u001b[38;5;66;03m# noqa: F401\u001b[39;00m\n\u001b[0;32m     56\u001b[0m     set_mapbox_access_token,\n\u001b[0;32m     57\u001b[0m     defaults,\n\u001b[0;32m     58\u001b[0m     get_trendline_results,\n\u001b[0;32m     59\u001b[0m     NO_COLOR,\n\u001b[0;32m     60\u001b[0m )\n",
      "File \u001b[1;32m~\\anaconda3\\Lib\\site-packages\\plotly\\express\\_imshow.py:4\u001b[0m\n\u001b[0;32m      2\u001b[0m \u001b[38;5;28;01mfrom\u001b[39;00m \u001b[38;5;21;01m_plotly_utils\u001b[39;00m\u001b[38;5;21;01m.\u001b[39;00m\u001b[38;5;21;01mbasevalidators\u001b[39;00m \u001b[38;5;28;01mimport\u001b[39;00m ColorscaleValidator\n\u001b[0;32m      3\u001b[0m \u001b[38;5;28;01mfrom\u001b[39;00m \u001b[38;5;21;01m.\u001b[39;00m\u001b[38;5;21;01m_core\u001b[39;00m \u001b[38;5;28;01mimport\u001b[39;00m apply_default_cascade, init_figure, configure_animation_controls\n\u001b[1;32m----> 4\u001b[0m \u001b[38;5;28;01mfrom\u001b[39;00m \u001b[38;5;21;01m.\u001b[39;00m\u001b[38;5;21;01mimshow_utils\u001b[39;00m \u001b[38;5;28;01mimport\u001b[39;00m rescale_intensity, _integer_ranges, _integer_types\n\u001b[0;32m      5\u001b[0m \u001b[38;5;28;01mimport\u001b[39;00m \u001b[38;5;21;01mpandas\u001b[39;00m \u001b[38;5;28;01mas\u001b[39;00m \u001b[38;5;21;01mpd\u001b[39;00m\n\u001b[0;32m      6\u001b[0m \u001b[38;5;28;01mimport\u001b[39;00m \u001b[38;5;21;01mnumpy\u001b[39;00m \u001b[38;5;28;01mas\u001b[39;00m \u001b[38;5;21;01mnp\u001b[39;00m\n",
      "File \u001b[1;32m~\\anaconda3\\Lib\\site-packages\\plotly\\express\\imshow_utils.py:24\u001b[0m\n\u001b[0;32m      9\u001b[0m _integer_types \u001b[38;5;241m=\u001b[39m (\n\u001b[0;32m     10\u001b[0m     np\u001b[38;5;241m.\u001b[39mbyte,\n\u001b[0;32m     11\u001b[0m     np\u001b[38;5;241m.\u001b[39mubyte,  \u001b[38;5;66;03m# 8 bits\u001b[39;00m\n\u001b[1;32m   (...)\u001b[0m\n\u001b[0;32m     19\u001b[0m     np\u001b[38;5;241m.\u001b[39mulonglong,\n\u001b[0;32m     20\u001b[0m )  \u001b[38;5;66;03m# 64 bits\u001b[39;00m\n\u001b[0;32m     21\u001b[0m _integer_ranges \u001b[38;5;241m=\u001b[39m {t: (np\u001b[38;5;241m.\u001b[39miinfo(t)\u001b[38;5;241m.\u001b[39mmin, np\u001b[38;5;241m.\u001b[39miinfo(t)\u001b[38;5;241m.\u001b[39mmax) \u001b[38;5;28;01mfor\u001b[39;00m t \u001b[38;5;129;01min\u001b[39;00m _integer_types}\n\u001b[0;32m     22\u001b[0m dtype_range \u001b[38;5;241m=\u001b[39m {\n\u001b[0;32m     23\u001b[0m     np\u001b[38;5;241m.\u001b[39mbool_: (\u001b[38;5;28;01mFalse\u001b[39;00m, \u001b[38;5;28;01mTrue\u001b[39;00m),\n\u001b[1;32m---> 24\u001b[0m     np\u001b[38;5;241m.\u001b[39mbool8: (\u001b[38;5;28;01mFalse\u001b[39;00m, \u001b[38;5;28;01mTrue\u001b[39;00m),\n\u001b[0;32m     25\u001b[0m     np\u001b[38;5;241m.\u001b[39mfloat16: (\u001b[38;5;241m-\u001b[39m\u001b[38;5;241m1\u001b[39m, \u001b[38;5;241m1\u001b[39m),\n\u001b[0;32m     26\u001b[0m     np\u001b[38;5;241m.\u001b[39mfloat32: (\u001b[38;5;241m-\u001b[39m\u001b[38;5;241m1\u001b[39m, \u001b[38;5;241m1\u001b[39m),\n\u001b[0;32m     27\u001b[0m     np\u001b[38;5;241m.\u001b[39mfloat64: (\u001b[38;5;241m-\u001b[39m\u001b[38;5;241m1\u001b[39m, \u001b[38;5;241m1\u001b[39m),\n\u001b[0;32m     28\u001b[0m }\n\u001b[0;32m     29\u001b[0m dtype_range\u001b[38;5;241m.\u001b[39mupdate(_integer_ranges)\n\u001b[0;32m     32\u001b[0m DTYPE_RANGE \u001b[38;5;241m=\u001b[39m dtype_range\u001b[38;5;241m.\u001b[39mcopy()\n",
      "File \u001b[1;32m~\\anaconda3\\Lib\\site-packages\\numpy\\__init__.py:424\u001b[0m, in \u001b[0;36m__getattr__\u001b[1;34m(attr)\u001b[0m\n\u001b[0;32m    421\u001b[0m     \u001b[38;5;28;01mimport\u001b[39;00m \u001b[38;5;21;01mnumpy\u001b[39;00m\u001b[38;5;21;01m.\u001b[39;00m\u001b[38;5;21;01mchar\u001b[39;00m \u001b[38;5;28;01mas\u001b[39;00m \u001b[38;5;21;01mchar\u001b[39;00m\n\u001b[0;32m    422\u001b[0m     \u001b[38;5;28;01mreturn\u001b[39;00m char\u001b[38;5;241m.\u001b[39mchararray\n\u001b[1;32m--> 424\u001b[0m \u001b[38;5;28;01mraise\u001b[39;00m \u001b[38;5;167;01mAttributeError\u001b[39;00m(\u001b[38;5;124m\"\u001b[39m\u001b[38;5;124mmodule \u001b[39m\u001b[38;5;132;01m{!r}\u001b[39;00m\u001b[38;5;124m has no attribute \u001b[39m\u001b[38;5;124m\"\u001b[39m\n\u001b[0;32m    425\u001b[0m                      \u001b[38;5;124m\"\u001b[39m\u001b[38;5;132;01m{!r}\u001b[39;00m\u001b[38;5;124m\"\u001b[39m\u001b[38;5;241m.\u001b[39mformat(\u001b[38;5;18m__name__\u001b[39m, attr))\n",
      "\u001b[1;31mAttributeError\u001b[0m: module 'numpy' has no attribute 'bool8'"
     ]
    }
   ],
   "source": [
    "import pandas as pd\n",
    "import numpy as np\n",
    "\n",
    "import warnings\n",
    "warnings.filterwarnings('ignore')\n",
    "from sklearn.preprocessing import StandardScaler, LabelEncoder\n",
    "\n",
    "import seaborn as sns\n",
    "import plotly.express as px\n",
    "import matplotlib.pyplot as plt"
   ]
  },
  {
   "cell_type": "code",
   "execution_count": null,
   "id": "0dfa81e8-1cf5-4445-b8fa-1589ca4ed5ef",
   "metadata": {},
   "outputs": [],
   "source": [
    "df=pd.read_csv(r\"F:\\cyber security project\\mahesh\\data\\Train_data.csv\")"
   ]
  },
  {
   "cell_type": "code",
   "execution_count": null,
   "id": "81922b15-255c-4413-a276-7deaa9bb9219",
   "metadata": {},
   "outputs": [],
   "source": [
    "df.head()"
   ]
  },
  {
   "cell_type": "code",
   "execution_count": null,
   "id": "06fbcc8c-792b-48aa-a1bf-7632dbf5ffcc",
   "metadata": {},
   "outputs": [],
   "source": [
    "df.columns"
   ]
  },
  {
   "cell_type": "code",
   "execution_count": null,
   "id": "859e9aa1-684a-4838-a34c-cd582a59c198",
   "metadata": {},
   "outputs": [],
   "source": [
    "df.describe()"
   ]
  },
  {
   "cell_type": "code",
   "execution_count": null,
   "id": "f03de5c1-7937-4308-b87a-a707ba8404ce",
   "metadata": {},
   "outputs": [],
   "source": [
    "df.describe(include='object')"
   ]
  },
  {
   "cell_type": "code",
   "execution_count": null,
   "id": "3d8417ce-af23-4f5f-8e7b-ef3bf9fd003a",
   "metadata": {},
   "outputs": [],
   "source": [
    "duplicates = df[df.duplicated()]\n",
    "print(duplicates)"
   ]
  },
  {
   "cell_type": "code",
   "execution_count": null,
   "id": "5b1279c5-756a-4535-9e79-1bfafc5857ef",
   "metadata": {},
   "outputs": [],
   "source": [
    "plt.figure(figsize=(100,100))\n",
    "sns.heatmap(df.corr(numeric_only = True))"
   ]
  },
  {
   "cell_type": "code",
   "execution_count": null,
   "id": "c25b2918-dbf5-4a4c-a000-5c120ab1c6c4",
   "metadata": {},
   "outputs": [],
   "source": [
    "label_encoder=LabelEncoder()\n",
    "\n",
    "def le(df):\n",
    "    for col in df.columns:\n",
    "        if df[col].dtype =='object':\n",
    "            df[col]=label_encoder.fit_transform(df[col])\n",
    "    return df       \n",
    "le(df)            "
   ]
  },
  {
   "cell_type": "code",
   "execution_count": null,
   "id": "a1ebfcf3-1a0b-4e57-916c-aa507aa897d3",
   "metadata": {},
   "outputs": [],
   "source": [
    "df.corr()"
   ]
  },
  {
   "cell_type": "markdown",
   "id": "f16575af-c465-413a-ac13-87987f1e39e8",
   "metadata": {},
   "source": [
    "#### Duration"
   ]
  },
  {
   "cell_type": "code",
   "execution_count": null,
   "id": "56616bbb-849b-4e5e-afd9-a341bdaa5caf",
   "metadata": {},
   "outputs": [],
   "source": [
    "df['duration'].info()"
   ]
  },
  {
   "cell_type": "code",
   "execution_count": null,
   "id": "c866c4d7-d7ba-4873-b435-47d103aa9872",
   "metadata": {},
   "outputs": [],
   "source": [
    "df['duration'].describe()"
   ]
  },
  {
   "cell_type": "code",
   "execution_count": null,
   "id": "d00280f9-0795-4fe6-8bf3-0270c4a26130",
   "metadata": {},
   "outputs": [],
   "source": [
    "sns.boxplot(df['duration'])"
   ]
  },
  {
   "cell_type": "code",
   "execution_count": null,
   "id": "02e47f72-42d7-49ab-af4f-7c0ee4600b62",
   "metadata": {},
   "outputs": [],
   "source": [
    "q1=df['duration'].quantile(0.25)\n",
    "q2=df['duration'].quantile(0.50)\n",
    "q3=df['duration'].quantile(0.75)\n",
    "\n",
    "iqr = q3-q1\n",
    "\n",
    "upper_limit=q3+1.5*iqr\n",
    "lower_limit=q1-1.5*iqr\n",
    "print(upper_limit)\n",
    "print(lower_limit)"
   ]
  },
  {
   "cell_type": "markdown",
   "id": "c2b2d02a-52ef-446c-ad01-8b21c56ad86a",
   "metadata": {},
   "source": [
    "### protocol_type\t"
   ]
  },
  {
   "cell_type": "code",
   "execution_count": null,
   "id": "ab754917-bab0-4da2-9b48-693aa70da55c",
   "metadata": {},
   "outputs": [],
   "source": [
    "df['protocol_type'].info()"
   ]
  },
  {
   "cell_type": "code",
   "execution_count": null,
   "id": "1ece198a-055d-46d3-9a56-1db9703036e2",
   "metadata": {},
   "outputs": [],
   "source": [
    "df['protocol_type'].unique()"
   ]
  },
  {
   "cell_type": "code",
   "execution_count": null,
   "id": "90047674-0dc4-43c1-b83f-7a987e1fc641",
   "metadata": {},
   "outputs": [],
   "source": [
    "plt.pie(df['protocol_type'].value_counts(),labels=[1,2,0], autopct='%0.2f')\n",
    "plt.show()"
   ]
  },
  {
   "cell_type": "code",
   "execution_count": null,
   "id": "b53432f0-f6ef-4063-9e6d-3a0f03ba97aa",
   "metadata": {},
   "outputs": [],
   "source": [
    "df['protocol_type'].value_counts()"
   ]
  },
  {
   "cell_type": "markdown",
   "id": "c1314b39-78fe-4589-9828-b2f69e6dbd04",
   "metadata": {},
   "source": [
    "#### service"
   ]
  },
  {
   "cell_type": "code",
   "execution_count": null,
   "id": "2fb4ec15-8fc9-4ef5-93cb-d3358d923829",
   "metadata": {},
   "outputs": [],
   "source": [
    "df['service'].info()"
   ]
  },
  {
   "cell_type": "code",
   "execution_count": null,
   "id": "c0b47b74-5d4f-406e-a6fa-979b9a5109fb",
   "metadata": {},
   "outputs": [],
   "source": [
    "df['service'].isna().sum()"
   ]
  },
  {
   "cell_type": "code",
   "execution_count": null,
   "id": "cffc904b-3a31-4f1c-ac12-b6cfbbc6509f",
   "metadata": {},
   "outputs": [],
   "source": [
    "df['service'].describe()"
   ]
  },
  {
   "cell_type": "code",
   "execution_count": null,
   "id": "81893b9b-ac59-4ed8-ab99-9759717d7474",
   "metadata": {},
   "outputs": [],
   "source": [
    "sns.boxplot(df['service'])"
   ]
  },
  {
   "cell_type": "markdown",
   "id": "a12a106b-d524-46e1-960e-b2dcb6a9a6c6",
   "metadata": {},
   "source": [
    "#### flag"
   ]
  },
  {
   "cell_type": "code",
   "execution_count": null,
   "id": "28416336-4b43-4f6b-a03a-423eb36e5e86",
   "metadata": {},
   "outputs": [],
   "source": [
    "df['flag'].info()"
   ]
  },
  {
   "cell_type": "code",
   "execution_count": null,
   "id": "d016f03f-e215-4f03-a65d-ab9a7ca43c7a",
   "metadata": {},
   "outputs": [],
   "source": [
    "df['flag'].describe()"
   ]
  },
  {
   "cell_type": "code",
   "execution_count": null,
   "id": "3767065a-93b9-493f-bce6-49e0e7f35c52",
   "metadata": {},
   "outputs": [],
   "source": [
    "sns.boxplot(df['flag'])"
   ]
  },
  {
   "cell_type": "markdown",
   "id": "97d218e9-3c84-4a9a-9b96-283c75a1d429",
   "metadata": {},
   "source": [
    "#### src_bytes"
   ]
  },
  {
   "cell_type": "code",
   "execution_count": null,
   "id": "aa07be2f-4ef8-4cb6-807c-40a4d54be03f",
   "metadata": {},
   "outputs": [],
   "source": [
    "df['src_bytes'].info()"
   ]
  },
  {
   "cell_type": "code",
   "execution_count": null,
   "id": "ae659bc4-ffee-4abf-b4b0-443a59d9eba9",
   "metadata": {},
   "outputs": [],
   "source": [
    "df['src_bytes'].describe()"
   ]
  },
  {
   "cell_type": "code",
   "execution_count": null,
   "id": "c82f47aa-ce11-4dcd-9c11-15eec274d04c",
   "metadata": {},
   "outputs": [],
   "source": [
    "sns.boxplot(df['src_bytes'])"
   ]
  },
  {
   "cell_type": "code",
   "execution_count": null,
   "id": "c429aa61-9d2f-4faa-a1f2-60d74d1b1aa6",
   "metadata": {},
   "outputs": [],
   "source": [
    "q1=df['src_bytes'].quantile(0.25)\n",
    "q2=df['src_bytes'].quantile(0.50)\n",
    "q3=df['src_bytes'].quantile(0.75)\n",
    "\n",
    "iqr = q3-q1\n",
    "print(iqr)\n",
    "upper_limit=q3+1.5*iqr\n",
    "lower_limit=q1-1.5*iqr\n",
    "print(upper_limit)\n",
    "print(lower_limit)"
   ]
  },
  {
   "cell_type": "code",
   "execution_count": null,
   "id": "25217eca-351f-4e13-b96a-68683a59de8c",
   "metadata": {},
   "outputs": [],
   "source": [
    "df['src_bytes'] = np.where(df['src_bytes'] <lower_limit,lower_limit, df['src_bytes'])"
   ]
  },
  {
   "cell_type": "code",
   "execution_count": null,
   "id": "204b81bf-0786-4d93-aa5a-ba4cf17367cd",
   "metadata": {},
   "outputs": [],
   "source": [
    "df['src_bytes'] = np.where(df['src_bytes'] > upper_limit,upper_limit, df['src_bytes'])"
   ]
  },
  {
   "cell_type": "code",
   "execution_count": null,
   "id": "b993148a-3a65-474a-b656-4091ab1fbc0d",
   "metadata": {},
   "outputs": [],
   "source": [
    "sns.boxplot(df['src_bytes'])"
   ]
  },
  {
   "cell_type": "markdown",
   "id": "5195ea12-1b52-44e6-a6c7-2a159417aa7b",
   "metadata": {},
   "source": [
    "#### dst_bytes"
   ]
  },
  {
   "cell_type": "code",
   "execution_count": null,
   "id": "6032d0cb-0ce4-4535-ae80-bb59d5aaa463",
   "metadata": {},
   "outputs": [],
   "source": [
    "df['dst_bytes'].info()"
   ]
  },
  {
   "cell_type": "code",
   "execution_count": null,
   "id": "e8862c8c-4bb1-42cd-ada2-5235fddbbfd5",
   "metadata": {},
   "outputs": [],
   "source": [
    "df['dst_bytes'].describe()"
   ]
  },
  {
   "cell_type": "code",
   "execution_count": null,
   "id": "68e638df-1aae-432a-95e3-6e24bd5e63c6",
   "metadata": {},
   "outputs": [],
   "source": [
    "df['dst_bytes'].skew()"
   ]
  },
  {
   "cell_type": "code",
   "execution_count": null,
   "id": "a9fa22e8-7fec-41f1-a5d7-e660336ba536",
   "metadata": {},
   "outputs": [],
   "source": [
    "sns.kdeplot(np.log(df['dst_bytes']))"
   ]
  },
  {
   "cell_type": "code",
   "execution_count": null,
   "id": "5866012d-3d3c-4a4d-9bd2-c5d9133596c8",
   "metadata": {},
   "outputs": [],
   "source": [
    "q1=df['dst_bytes'].quantile(0.25)\n",
    "q2=df['dst_bytes'].quantile(0.50)\n",
    "q3=df['dst_bytes'].quantile(0.75)\n",
    "\n",
    "iqr = q3-q1\n",
    "\n",
    "upper_limit=q3+1.5*iqr\n",
    "lower_limit=q1-1.5*iqr\n",
    "print(upper_limit)\n",
    "print(lower_limit)"
   ]
  },
  {
   "cell_type": "code",
   "execution_count": null,
   "id": "627af022-5f7c-4317-b896-2296512a8e72",
   "metadata": {},
   "outputs": [],
   "source": [
    "iqr"
   ]
  },
  {
   "cell_type": "code",
   "execution_count": null,
   "id": "8e32c792-43d3-44f3-8967-7e9c4453f9b8",
   "metadata": {},
   "outputs": [],
   "source": [
    "q1"
   ]
  },
  {
   "cell_type": "code",
   "execution_count": null,
   "id": "2f687a32-8685-4460-a833-6300bca6d0a4",
   "metadata": {
    "jp-MarkdownHeadingCollapsed": true
   },
   "outputs": [],
   "source": [
    "q2"
   ]
  },
  {
   "cell_type": "code",
   "execution_count": null,
   "id": "bbd8f928-146b-4a82-85b6-d9cdd2dc96b6",
   "metadata": {},
   "outputs": [],
   "source": [
    "q3"
   ]
  },
  {
   "cell_type": "code",
   "execution_count": null,
   "id": "4aa9c38c-6715-4936-ac82-b0e3901bbe03",
   "metadata": {},
   "outputs": [],
   "source": [
    "df['dst_bytes'] = np.where(df['dst_bytes'] >= upper_limit,upper_limit,df['src_bytes'])"
   ]
  },
  {
   "cell_type": "code",
   "execution_count": null,
   "id": "2c9589cf-2fa3-4e81-a7f3-8b3245d307db",
   "metadata": {},
   "outputs": [],
   "source": [
    "sns.kdeplot(df['dst_bytes'])"
   ]
  },
  {
   "cell_type": "code",
   "execution_count": null,
   "id": "431856fa-eba7-405c-9e01-6ec5f61f64ed",
   "metadata": {},
   "outputs": [],
   "source": [
    "sns.boxplot(df['dst_bytes'])"
   ]
  },
  {
   "cell_type": "code",
   "execution_count": null,
   "id": "05f6bee0-9dd9-4fe2-8f95-ffca2f025090",
   "metadata": {},
   "outputs": [],
   "source": [
    "df.columns.to_list()"
   ]
  },
  {
   "cell_type": "markdown",
   "id": "911eb2cc-2333-4961-8885-cd76468bcf23",
   "metadata": {},
   "source": [
    "#### LAND"
   ]
  },
  {
   "cell_type": "code",
   "execution_count": null,
   "id": "db7d0b10-8846-49b7-a91e-6cf488a04f0a",
   "metadata": {},
   "outputs": [],
   "source": [
    "df['land'].value_counts()"
   ]
  },
  {
   "cell_type": "code",
   "execution_count": null,
   "id": "45f3992c-1d1c-4f51-ac31-954ec1c5cd37",
   "metadata": {},
   "outputs": [],
   "source": [
    "df['land'].corr(df['class'])"
   ]
  },
  {
   "cell_type": "markdown",
   "id": "35c944bd-42a6-47c3-8e73-c15c18f10cbb",
   "metadata": {},
   "source": [
    "#### 'wrong_fragment',"
   ]
  },
  {
   "cell_type": "code",
   "execution_count": null,
   "id": "30fb6876-6052-4946-9b8c-51bd0ff7538b",
   "metadata": {},
   "outputs": [],
   "source": [
    "df['wrong_fragment'].value_counts()"
   ]
  },
  {
   "cell_type": "code",
   "execution_count": null,
   "id": "4ad464cf-b2c2-45a7-b0f7-6b06bdf0f4e5",
   "metadata": {},
   "outputs": [],
   "source": [
    "df['wrong_fragment'].corr(df['class'])"
   ]
  },
  {
   "cell_type": "code",
   "execution_count": null,
   "id": "093c9bce-f0a1-4b5f-afa1-0dbdc4234315",
   "metadata": {},
   "outputs": [],
   "source": [
    "q1=df['wrong_fragment'].quantile(0.25)\n",
    "q2=df['wrong_fragment'].quantile(0.50)\n",
    "q3=df['wrong_fragment'].quantile(0.75)\n",
    "\n",
    "iqr = q3-q1\n",
    "\n",
    "upper_limit=q3+1.5*iqr\n",
    "lower_limit=q1-1.5*iqr\n",
    "print(upper_limit)\n",
    "print(lower_limit)"
   ]
  },
  {
   "cell_type": "code",
   "execution_count": null,
   "id": "8c1697ad-7ff9-4769-91fb-98c972144cac",
   "metadata": {},
   "outputs": [],
   "source": [
    "sns.boxplot(df['wrong_fragment'])"
   ]
  },
  {
   "cell_type": "markdown",
   "id": "82975451-985e-4903-bd7f-11a4d6a8eff1",
   "metadata": {},
   "source": [
    "### 'urgent'"
   ]
  },
  {
   "cell_type": "code",
   "execution_count": null,
   "id": "7476ebb1-ab18-4920-953e-3a4199aa5842",
   "metadata": {},
   "outputs": [],
   "source": [
    "df['urgent'].value_counts()"
   ]
  },
  {
   "cell_type": "markdown",
   "id": "223f61e3-0118-48e1-8a6c-721988d2ebc5",
   "metadata": {},
   "source": [
    "### 'hot'"
   ]
  },
  {
   "cell_type": "code",
   "execution_count": null,
   "id": "d8a67344-8a8b-4297-8c51-a820754e2511",
   "metadata": {},
   "outputs": [],
   "source": [
    "df['hot'].value_counts()"
   ]
  },
  {
   "cell_type": "code",
   "execution_count": null,
   "id": "b8b3ab98-1f66-48f6-94ff-43511a42d29a",
   "metadata": {},
   "outputs": [],
   "source": [
    "sns.boxplot(df['hot'])"
   ]
  },
  {
   "cell_type": "code",
   "execution_count": null,
   "id": "678084c7-6a5c-4219-b750-740849e50cef",
   "metadata": {},
   "outputs": [],
   "source": [
    "q1=df['hot'].quantile(0.25)\n",
    "q2=df['hot'].quantile(0.50)\n",
    "q3=df['hot'].quantile(0.75)\n",
    "\n",
    "iqr = q3-q1\n",
    "\n",
    "upper_limit=q3+1.5*iqr\n",
    "lower_limit=q1-1.5*iqr\n",
    "print(upper_limit)\n",
    "print(lower_limit)"
   ]
  },
  {
   "cell_type": "markdown",
   "id": "68140730-aff7-4415-bee9-9adf20ed0fc7",
   "metadata": {},
   "source": [
    "#### 'num_failed_logins',"
   ]
  },
  {
   "cell_type": "code",
   "execution_count": null,
   "id": "e5552d43-186e-47b8-94ad-38bf6e5af7e8",
   "metadata": {},
   "outputs": [],
   "source": [
    "df['num_failed_logins'].value_counts()"
   ]
  },
  {
   "cell_type": "code",
   "execution_count": null,
   "id": "f2109d98-b202-493d-939c-d4442c343b2c",
   "metadata": {},
   "outputs": [],
   "source": [
    "sns.boxplot(df['num_failed_logins'])"
   ]
  },
  {
   "cell_type": "code",
   "execution_count": null,
   "id": "088fef41-7150-4024-af0a-0861f42e62b4",
   "metadata": {},
   "outputs": [],
   "source": [
    "q1=df['num_failed_logins'].quantile(0.25)\n",
    "q2=df['num_failed_logins'].quantile(0.50)\n",
    "q3=df['num_failed_logins'].quantile(0.75)\n",
    "\n",
    "iqr = q3-q1\n",
    "\n",
    "upper_limit=q3+1.5*iqr\n",
    "lower_limit=q1-1.5*iqr\n",
    "print(upper_limit)\n",
    "print(lower_limit)"
   ]
  },
  {
   "cell_type": "markdown",
   "id": "4dab0459-e867-4625-9325-9cd6759405d0",
   "metadata": {},
   "source": [
    "#### 'logged_in',"
   ]
  },
  {
   "cell_type": "code",
   "execution_count": null,
   "id": "fc067cfc-82c5-4975-ab2e-93257167eb42",
   "metadata": {},
   "outputs": [],
   "source": [
    "df['logged_in'].value_counts()"
   ]
  },
  {
   "cell_type": "code",
   "execution_count": null,
   "id": "30146c8b-b33b-4e8f-9b9d-059b171a99af",
   "metadata": {},
   "outputs": [],
   "source": [
    "sns.boxplot(df['logged_in'])"
   ]
  },
  {
   "cell_type": "code",
   "execution_count": null,
   "id": "19da2e5b-94f7-4dba-819f-8a399249f86e",
   "metadata": {},
   "outputs": [],
   "source": [
    "sns.kdeplot(df['logged_in'])"
   ]
  },
  {
   "cell_type": "code",
   "execution_count": null,
   "id": "72aa8c45-069c-4171-8878-1e12e5d99855",
   "metadata": {},
   "outputs": [],
   "source": [
    "q1=df['logged_in'].quantile(0.25)\n",
    "q2=df['logged_in'].quantile(0.50)\n",
    "q3=df['logged_in'].quantile(0.75)\n",
    "\n",
    "iqr = q3-q1\n",
    "\n",
    "upper_limit=q3+1.5*iqr\n",
    "lower_limit=q1-1.5*iqr\n",
    "print(upper_limit)\n",
    "print(lower_limit)"
   ]
  },
  {
   "cell_type": "code",
   "execution_count": null,
   "id": "1c9f786f-9447-4ca7-a8ce-6c646633d8c2",
   "metadata": {},
   "outputs": [],
   "source": [
    "df['logged_in'].median()"
   ]
  },
  {
   "cell_type": "code",
   "execution_count": null,
   "id": "cdab0a2b-0b17-49c7-b545-1d347ae1f770",
   "metadata": {},
   "outputs": [],
   "source": [
    "df['logged_in'] = np.where(df['logged_in'] >= upper_limit,upper_limit,df['logged_in'])"
   ]
  },
  {
   "cell_type": "code",
   "execution_count": null,
   "id": "7aa8b33a-59a0-4c2b-a888-3c23fbdbab38",
   "metadata": {},
   "outputs": [],
   "source": [
    "sns.kdeplot(df['logged_in'])"
   ]
  },
  {
   "cell_type": "code",
   "execution_count": null,
   "id": "afad1d21-d529-484d-aa34-2f73ea3985c7",
   "metadata": {},
   "outputs": [],
   "source": [
    "sns.boxplot(df['logged_in'])"
   ]
  },
  {
   "cell_type": "markdown",
   "id": "94121659-b047-4f09-bf4f-7fc16edd4a10",
   "metadata": {},
   "source": [
    "#### 'num_compromised',"
   ]
  },
  {
   "cell_type": "code",
   "execution_count": null,
   "id": "1f4ae937-6806-4817-9078-595bed3d429d",
   "metadata": {},
   "outputs": [],
   "source": [
    "df['num_compromised'].value_counts()"
   ]
  },
  {
   "cell_type": "code",
   "execution_count": null,
   "id": "6eae8dab-1c3c-4ccb-9005-56170b0291cf",
   "metadata": {},
   "outputs": [],
   "source": [
    "sns.boxplot(df['num_compromised'])"
   ]
  },
  {
   "cell_type": "code",
   "execution_count": null,
   "id": "14b93c14-aeeb-4ace-a263-051326aad5da",
   "metadata": {},
   "outputs": [],
   "source": [
    "q1=df['num_compromised'].quantile(0.25)\n",
    "q2=df['num_compromised'].quantile(0.50)\n",
    "q3=df['num_compromised'].quantile(0.75)\n",
    "\n",
    "iqr = q3-q1\n",
    "\n",
    "upper_limit=q3+1.5*iqr\n",
    "lower_limit=q1-1.5*iqr\n",
    "print(upper_limit)\n",
    "print(lower_limit)"
   ]
  },
  {
   "cell_type": "markdown",
   "id": "fc5762d7-931d-4a04-a458-af8c6cca62d0",
   "metadata": {},
   "source": [
    "#### 'root_shell',"
   ]
  },
  {
   "cell_type": "code",
   "execution_count": null,
   "id": "c2946cfd-3ada-4c7d-b57a-2949e28fd1a5",
   "metadata": {},
   "outputs": [],
   "source": [
    "df['root_shell'].value_counts()"
   ]
  },
  {
   "cell_type": "code",
   "execution_count": null,
   "id": "25940472-f190-453a-9471-b4907337d931",
   "metadata": {},
   "outputs": [],
   "source": [
    "sns.boxplot(df['root_shell'])"
   ]
  },
  {
   "cell_type": "code",
   "execution_count": null,
   "id": "c1a052a3-08c4-4507-b77f-a5c16fbead1c",
   "metadata": {},
   "outputs": [],
   "source": [
    "q1=df['root_shell'].quantile(0.25)\n",
    "q2=df['root_shell'].quantile(0.50)\n",
    "q3=df['root_shell'].quantile(0.75)\n",
    "\n",
    "iqr = q3-q1\n",
    "\n",
    "upper_limit=q3+1.5*iqr\n",
    "lower_limit=q1-1.5*iqr\n",
    "print(upper_limit)\n",
    "print(lower_limit)"
   ]
  },
  {
   "cell_type": "markdown",
   "id": "5e53feff-5351-49ac-8cfc-2e7f713158f6",
   "metadata": {},
   "source": [
    "### 'su_attempted"
   ]
  },
  {
   "cell_type": "code",
   "execution_count": null,
   "id": "a8c25c57-8c7d-4227-a63e-71b6d943d411",
   "metadata": {},
   "outputs": [],
   "source": [
    "df['su_attempted'].value_counts()"
   ]
  },
  {
   "cell_type": "code",
   "execution_count": null,
   "id": "c2b1bac4-142a-4c9d-a08a-300062bba9dc",
   "metadata": {},
   "outputs": [],
   "source": [
    "sns.boxplot(df['su_attempted'])"
   ]
  },
  {
   "cell_type": "code",
   "execution_count": null,
   "id": "f1acea62-76c2-493d-825f-77a62b7a1e23",
   "metadata": {},
   "outputs": [],
   "source": [
    "q1=df['su_attempted'].quantile(0.25)\n",
    "q2=df['su_attempted'].quantile(0.50)\n",
    "q3=df['su_attempted'].quantile(0.75)\n",
    "\n",
    "iqr = q3-q1\n",
    "\n",
    "upper_limit=q3+1.5*iqr\n",
    "lower_limit=q1-1.5*iqr\n",
    "print(upper_limit)\n",
    "print(lower_limit)"
   ]
  },
  {
   "cell_type": "markdown",
   "id": "3472b945-d86e-4fae-9096-d294077343ef",
   "metadata": {},
   "source": [
    "#### 'num_root',"
   ]
  },
  {
   "cell_type": "code",
   "execution_count": null,
   "id": "29b9df0d-a593-4fb0-930f-4f8d61c832db",
   "metadata": {},
   "outputs": [],
   "source": [
    "df['num_root'].value_counts()"
   ]
  },
  {
   "cell_type": "code",
   "execution_count": null,
   "id": "ae7d4dc4-b82c-495a-9e00-06a1dfbef36d",
   "metadata": {},
   "outputs": [],
   "source": [
    "sns.boxplot(df['num_root'])"
   ]
  },
  {
   "cell_type": "code",
   "execution_count": null,
   "id": "b48e1d15-f9df-4583-963d-9391518052e1",
   "metadata": {},
   "outputs": [],
   "source": [
    "q1=df['num_root'].quantile(0.25)\n",
    "q2=df['num_root'].quantile(0.50)\n",
    "q3=df['num_root'].quantile(0.75)\n",
    "\n",
    "iqr = q3-q1\n",
    "\n",
    "upper_limit=q3+1.5*iqr\n",
    "lower_limit=q1-1.5*iqr\n",
    "print(upper_limit)\n",
    "print(lower_limit)"
   ]
  },
  {
   "cell_type": "markdown",
   "id": "41e97fcf-18ed-462d-9e7c-d040400bcdec",
   "metadata": {},
   "source": [
    "#### 'num_file_creations',"
   ]
  },
  {
   "cell_type": "code",
   "execution_count": null,
   "id": "82423606-befa-4343-a292-8d1127875197",
   "metadata": {},
   "outputs": [],
   "source": [
    "df['num_file_creations'].value_counts()"
   ]
  },
  {
   "cell_type": "code",
   "execution_count": null,
   "id": "59591c00-655a-494c-b25a-9062f93ed3be",
   "metadata": {},
   "outputs": [],
   "source": [
    "sns.boxplot(df['num_file_creations'])"
   ]
  },
  {
   "cell_type": "code",
   "execution_count": null,
   "id": "3ef892a2-5dcf-4e2e-83e6-f6203454900a",
   "metadata": {},
   "outputs": [],
   "source": [
    "q1=df['num_file_creations'].quantile(0.25)\n",
    "q2=df['num_file_creations'].quantile(0.50)\n",
    "q3=df['num_file_creations'].quantile(0.75)\n",
    "\n",
    "iqr = q3-q1\n",
    "\n",
    "upper_limit=q3+1.5*iqr\n",
    "lower_limit=q1-1.5*iqr\n",
    "print(upper_limit)\n",
    "print(lower_limit)"
   ]
  },
  {
   "cell_type": "markdown",
   "id": "7e4bd1bf-5bf5-4bb4-8be1-582f0b4843a7",
   "metadata": {},
   "source": [
    "#### 'num_shells'"
   ]
  },
  {
   "cell_type": "code",
   "execution_count": null,
   "id": "f8358901-6aba-4dc4-b355-2dd571ee5755",
   "metadata": {},
   "outputs": [],
   "source": [
    "df['num_shells'].value_counts()"
   ]
  },
  {
   "cell_type": "code",
   "execution_count": null,
   "id": "a3021d60-35ac-4445-a223-3fb9e8002a0c",
   "metadata": {},
   "outputs": [],
   "source": [
    "sns.boxplot(df['num_shells'])"
   ]
  },
  {
   "cell_type": "markdown",
   "id": "71f28a73-32d8-4085-9457-4b59db3a1a63",
   "metadata": {},
   "source": [
    "### 'num_access_files',"
   ]
  },
  {
   "cell_type": "code",
   "execution_count": null,
   "id": "6d561eff-7a8b-4468-ad2d-aceaca1fb1bd",
   "metadata": {},
   "outputs": [],
   "source": [
    "df['num_access_files'].value_counts()"
   ]
  },
  {
   "cell_type": "code",
   "execution_count": null,
   "id": "9fa5e475-ea0f-4bfb-9b3b-2310d90238ae",
   "metadata": {},
   "outputs": [],
   "source": [
    "sns.boxplot(df['num_access_files'])"
   ]
  },
  {
   "cell_type": "code",
   "execution_count": null,
   "id": "7f452432-9fc3-4277-bebd-437628df188b",
   "metadata": {},
   "outputs": [],
   "source": [
    "q1=df['num_access_files'].quantile(0.25)\n",
    "q2=df['num_access_files'].quantile(0.50)\n",
    "q3=df['num_access_files'].quantile(0.75)\n",
    "\n",
    "iqr = q3-q1\n",
    "\n",
    "upper_limit=q3+1.5*iqr\n",
    "lower_limit=q1-1.5*iqr\n",
    "print(upper_limit)\n",
    "print(lower_limit)"
   ]
  },
  {
   "cell_type": "markdown",
   "id": "bc457816-e4d8-412b-a335-efb0832849d5",
   "metadata": {},
   "source": [
    "### 'num_outbound_cmds',"
   ]
  },
  {
   "cell_type": "code",
   "execution_count": null,
   "id": "02bc4c4d-02e7-4caa-9c43-e7112b5a4e00",
   "metadata": {},
   "outputs": [],
   "source": [
    "df['num_outbound_cmds'].value_counts()"
   ]
  },
  {
   "cell_type": "code",
   "execution_count": null,
   "id": "daee6561-1e7d-42ef-ab06-1bb84a245cb1",
   "metadata": {},
   "outputs": [],
   "source": [
    "sns.boxplot(df['num_outbound_cmds'])"
   ]
  },
  {
   "cell_type": "markdown",
   "id": "fa6b8e15-d395-46d7-a201-3875330811f7",
   "metadata": {},
   "source": [
    "#### 'is_host_login'"
   ]
  },
  {
   "cell_type": "code",
   "execution_count": null,
   "id": "a9591e4c-df6a-49e8-b285-cd6912d4c404",
   "metadata": {},
   "outputs": [],
   "source": [
    "df['is_host_login'].value_counts()"
   ]
  },
  {
   "cell_type": "code",
   "execution_count": null,
   "id": "76102d96-1bb4-4679-9739-118cdfb525b2",
   "metadata": {},
   "outputs": [],
   "source": [
    "sns.boxplot(df['is_host_login'])"
   ]
  },
  {
   "cell_type": "markdown",
   "id": "be3ce47c-7159-4008-b69d-94f19fedabfe",
   "metadata": {},
   "source": [
    "#### 'is_guest_login',"
   ]
  },
  {
   "cell_type": "code",
   "execution_count": null,
   "id": "e485618e-5af1-461f-ae03-d7a4217012ce",
   "metadata": {},
   "outputs": [],
   "source": [
    "df['is_guest_login'].value_counts()"
   ]
  },
  {
   "cell_type": "code",
   "execution_count": null,
   "id": "642d8491-fa7a-448e-a8cd-f367cb67cc26",
   "metadata": {},
   "outputs": [],
   "source": [
    "sns.boxplot(df['is_guest_login'])"
   ]
  },
  {
   "cell_type": "code",
   "execution_count": null,
   "id": "54c25aa9-9d44-4e70-8688-045b08c91a34",
   "metadata": {},
   "outputs": [],
   "source": [
    "q1=df['is_guest_login'].quantile(0.25)\n",
    "q2=df['is_guest_login'].quantile(0.50)\n",
    "q3=df['is_guest_login'].quantile(0.75)\n",
    "\n",
    "iqr = q3-q1\n",
    "\n",
    "upper_limit=q3+1.5*iqr\n",
    "lower_limit=q1-1.5*iqr\n",
    "print(upper_limit)\n",
    "print(lower_limit)"
   ]
  },
  {
   "cell_type": "markdown",
   "id": "0add26dd-6570-426b-be65-bd23a6d8200e",
   "metadata": {},
   "source": [
    "#### 'count'"
   ]
  },
  {
   "cell_type": "code",
   "execution_count": null,
   "id": "8f34ff00-84e8-44b2-844f-38f05560131a",
   "metadata": {},
   "outputs": [],
   "source": [
    "df['count'].value_counts()"
   ]
  },
  {
   "cell_type": "code",
   "execution_count": null,
   "id": "b5662f88-cb14-43fc-99df-b7ed5dbadb3d",
   "metadata": {},
   "outputs": [],
   "source": [
    "sns.boxplot(df['count'])"
   ]
  },
  {
   "cell_type": "code",
   "execution_count": null,
   "id": "ef3c1a61-a918-4934-b658-9ab4f457745e",
   "metadata": {},
   "outputs": [],
   "source": [
    "q1=df['count'].quantile(0.25)\n",
    "q2=df['count'].quantile(0.50)\n",
    "q3=df['count'].quantile(0.75)\n",
    "\n",
    "iqr = q3-q1\n",
    "\n",
    "upper_limit=q3+1.5*iqr\n",
    "lower_limit=q1-1.5*iqr\n",
    "print(upper_limit)\n",
    "print(lower_limit)"
   ]
  },
  {
   "cell_type": "code",
   "execution_count": null,
   "id": "0ecbd7b2-5dc3-4829-8df0-1e1e03133e34",
   "metadata": {},
   "outputs": [],
   "source": [
    "df['count'].median()"
   ]
  },
  {
   "cell_type": "code",
   "execution_count": null,
   "id": "87b1664d-478f-404c-9caf-2dd5bd69f7d5",
   "metadata": {},
   "outputs": [],
   "source": [
    "df['count']=np.where(df['count']>= 320,df['count'].median(),df['count'])"
   ]
  },
  {
   "cell_type": "code",
   "execution_count": null,
   "id": "95f599ea-369a-4eff-9775-91ed61330c0d",
   "metadata": {},
   "outputs": [],
   "source": [
    "sns.boxplot(df['count'])"
   ]
  },
  {
   "cell_type": "markdown",
   "id": "3b85c5cb-115e-46fc-a805-49c0ef83524f",
   "metadata": {},
   "source": [
    "#### 'srv_count',"
   ]
  },
  {
   "cell_type": "code",
   "execution_count": null,
   "id": "704a65dd-5be9-4751-adce-b641aaf7ca5e",
   "metadata": {},
   "outputs": [],
   "source": [
    "df['srv_count'].value_counts()"
   ]
  },
  {
   "cell_type": "code",
   "execution_count": null,
   "id": "9c9f4fc8-d919-4b46-8a2d-32e053919620",
   "metadata": {},
   "outputs": [],
   "source": [
    "sns.boxplot(df['srv_count'])"
   ]
  },
  {
   "cell_type": "code",
   "execution_count": null,
   "id": "05e3da17-c4ec-49c0-915c-492b0644517b",
   "metadata": {},
   "outputs": [],
   "source": [
    "q1=df['srv_count'].quantile(0.25)\n",
    "q2=df['srv_count'].quantile(0.50)\n",
    "q3=df['srv_count'].quantile(0.75)\n",
    "\n",
    "iqr = q3-q1\n",
    "\n",
    "upper_limit=q3+1.5*iqr\n",
    "lower_limit=q1-1.5*iqr\n",
    "print(upper_limit)\n",
    "print(lower_limit)"
   ]
  },
  {
   "cell_type": "code",
   "execution_count": null,
   "id": "fac3b25b-b3b5-439d-b238-24effa1f3cfb",
   "metadata": {},
   "outputs": [],
   "source": [
    "df['srv_count'].median()"
   ]
  },
  {
   "cell_type": "code",
   "execution_count": null,
   "id": "9e325588-a0c6-4db6-95e1-6acc89893297",
   "metadata": {},
   "outputs": [],
   "source": [
    "df['srv_count']=np.where(df['srv_count']>= 23,df['srv_count'].median(),df['srv_count'])"
   ]
  },
  {
   "cell_type": "code",
   "execution_count": null,
   "id": "47b3246c-7655-43b3-8500-038155dea8c2",
   "metadata": {},
   "outputs": [],
   "source": [
    "sns.boxplot(df['srv_count'])"
   ]
  },
  {
   "cell_type": "markdown",
   "id": "d850849b-1901-4758-8460-e573b1a9cf47",
   "metadata": {},
   "source": [
    "#### 'serror_rate',"
   ]
  },
  {
   "cell_type": "code",
   "execution_count": null,
   "id": "dc34a5d3-6f68-48cf-b6c7-f1d4d1b05d53",
   "metadata": {},
   "outputs": [],
   "source": [
    "df['serror_rate'].value_counts()"
   ]
  },
  {
   "cell_type": "code",
   "execution_count": null,
   "id": "72b19f98-248b-43c2-8f06-962bf26fa1d6",
   "metadata": {},
   "outputs": [],
   "source": [
    "sns.boxplot(df['serror_rate'])"
   ]
  },
  {
   "cell_type": "code",
   "execution_count": null,
   "id": "5e1eda86-6243-4a71-85cb-46b84e348c55",
   "metadata": {},
   "outputs": [],
   "source": [
    "df['serror_rate'].describe()"
   ]
  },
  {
   "cell_type": "code",
   "execution_count": null,
   "id": "1aafccce-7ab3-4317-ba8e-fa0928ab2574",
   "metadata": {},
   "outputs": [],
   "source": [
    "q1=df['serror_rate'].quantile(0.25)\n",
    "q2=df['serror_rate'].quantile(0.50)\n",
    "q3=df['serror_rate'].quantile(0.75)\n",
    "\n",
    "iqr = q3-q1\n",
    "\n",
    "upper_limit=q3+1.5*iqr\n",
    "lower_limit=q1-1.5*iqr\n",
    "print(upper_limit)\n",
    "print(lower_limit)"
   ]
  },
  {
   "cell_type": "code",
   "execution_count": null,
   "id": "7d5e6a7d-de09-4c85-a858-c6e136eab73c",
   "metadata": {},
   "outputs": [],
   "source": [
    "df['serror_rate']=np.where(df['serror_rate']>= upper_limit,upper_limit,df['serror_rate'])"
   ]
  },
  {
   "cell_type": "code",
   "execution_count": null,
   "id": "4f8317c1-795e-4300-9293-8c805309b55a",
   "metadata": {},
   "outputs": [],
   "source": [
    "sns.boxplot(df['serror_rate'])"
   ]
  },
  {
   "cell_type": "markdown",
   "id": "2e41eff8-1fb1-400f-ad5c-ca98217bee1e",
   "metadata": {},
   "source": [
    "#### 'srv_serror_rate'"
   ]
  },
  {
   "cell_type": "code",
   "execution_count": null,
   "id": "fea23ccf-fda4-43fb-ac8d-7942ad44ca65",
   "metadata": {},
   "outputs": [],
   "source": [
    "df['srv_serror_rate'].value_counts()"
   ]
  },
  {
   "cell_type": "code",
   "execution_count": null,
   "id": "29f3ff7f-3ac8-4bc5-985d-b6339431f421",
   "metadata": {},
   "outputs": [],
   "source": [
    "df['srv_serror_rate'].describe()"
   ]
  },
  {
   "cell_type": "code",
   "execution_count": null,
   "id": "5abac13f-592e-412d-9168-88a48fd65428",
   "metadata": {},
   "outputs": [],
   "source": [
    "sns.boxplot(df['srv_serror_rate'])"
   ]
  },
  {
   "cell_type": "code",
   "execution_count": null,
   "id": "deef9e39-0950-4f41-a03b-84ad816cc4ff",
   "metadata": {},
   "outputs": [],
   "source": [
    "q1=df['srv_serror_rate'].quantile(0.25)\n",
    "q2=df['srv_serror_rate'].quantile(0.50)\n",
    "q3=df['srv_serror_rate'].quantile(0.75)\n",
    "\n",
    "iqr = q3-q1\n",
    "\n",
    "upper_limit=q3+1.5*iqr\n",
    "lower_limit=q1-1.5*iqr\n",
    "print(upper_limit)\n",
    "print(lower_limit)"
   ]
  },
  {
   "cell_type": "code",
   "execution_count": null,
   "id": "1c236a2d-8053-49ac-a140-4eed5989bb67",
   "metadata": {},
   "outputs": [],
   "source": [
    "df['srv_serror_rate']=np.where(df['srv_serror_rate']>= upper_limit,upper_limit,df['srv_serror_rate'])"
   ]
  },
  {
   "cell_type": "code",
   "execution_count": null,
   "id": "8f0d0100-576b-4a12-bb78-77685ebf2b17",
   "metadata": {},
   "outputs": [],
   "source": [
    "df['srv_serror_rate']=np.where(df['srv_serror_rate']<= lower_limit,lower_limit,df['srv_serror_rate'])"
   ]
  },
  {
   "cell_type": "code",
   "execution_count": null,
   "id": "57d679e8-6630-4004-ad78-c43d1e30a2ce",
   "metadata": {},
   "outputs": [],
   "source": [
    "sns.kdeplot(df['srv_serror_rate'])"
   ]
  },
  {
   "cell_type": "code",
   "execution_count": null,
   "id": "c62bd3b7-8247-4b03-823e-b3fb1ea4eb19",
   "metadata": {},
   "outputs": [],
   "source": [
    "sns.boxplot(df['srv_serror_rate'])"
   ]
  },
  {
   "cell_type": "markdown",
   "id": "2900337e-c65d-4534-adb0-9abfce399e08",
   "metadata": {},
   "source": [
    "#### 'rerror_rate'"
   ]
  },
  {
   "cell_type": "code",
   "execution_count": null,
   "id": "f15bd7a2-b6a6-4e0f-8c77-47864c0aeffa",
   "metadata": {},
   "outputs": [],
   "source": [
    "df[ 'rerror_rate'].value_counts()"
   ]
  },
  {
   "cell_type": "code",
   "execution_count": null,
   "id": "e3b3acfd-7b79-484c-8154-8c26b7ec75eb",
   "metadata": {},
   "outputs": [],
   "source": [
    "sns.boxplot(df[ 'rerror_rate'])"
   ]
  },
  {
   "cell_type": "code",
   "execution_count": null,
   "id": "f4df3b86-6478-4521-8f48-37f2f707cf8a",
   "metadata": {},
   "outputs": [],
   "source": [
    "q1=df['rerror_rate'].quantile(0.25)\n",
    "q2=df['rerror_rate'].quantile(0.50)\n",
    "q3=df['rerror_rate'].quantile(0.75)\n",
    "\n",
    "iqr = q3-q1\n",
    "\n",
    "upper_limit=q3+1.5*iqr\n",
    "lower_limit=q1-1.5*iqr\n",
    "print(upper_limit)\n",
    "print(lower_limit)"
   ]
  },
  {
   "cell_type": "markdown",
   "id": "eddc71af-e749-4a40-8da5-ee67daad0c8e",
   "metadata": {},
   "source": [
    "#### 'srv_rerror_rate'"
   ]
  },
  {
   "cell_type": "code",
   "execution_count": null,
   "id": "4c0c21c0-6669-47a9-b722-85050b5a5660",
   "metadata": {},
   "outputs": [],
   "source": [
    "df['srv_rerror_rate'].value_counts()"
   ]
  },
  {
   "cell_type": "code",
   "execution_count": null,
   "id": "474c9909-62d3-4f26-b330-aaf0e604f415",
   "metadata": {},
   "outputs": [],
   "source": [
    "sns.boxplot(df['srv_rerror_rate'])"
   ]
  },
  {
   "cell_type": "code",
   "execution_count": null,
   "id": "1c9f3c12-1e8d-4aef-82aa-fe17b8f6ccba",
   "metadata": {},
   "outputs": [],
   "source": [
    "q1=df['srv_rerror_rate'].quantile(0.25)\n",
    "q2=df['srv_rerror_rate'].quantile(0.50)\n",
    "q3=df['srv_rerror_rate'].quantile(0.75)\n",
    "\n",
    "iqr = q3-q1\n",
    "\n",
    "upper_limit=q3+1.5*iqr\n",
    "lower_limit=q1-1.5*iqr\n",
    "print(upper_limit)\n",
    "print(lower_limit)"
   ]
  },
  {
   "cell_type": "markdown",
   "id": "1c18a4fc-2693-438c-b1be-770e79412947",
   "metadata": {},
   "source": [
    "### 'same_srv_rate'"
   ]
  },
  {
   "cell_type": "code",
   "execution_count": null,
   "id": "cf55c132-f0f1-43a2-a651-8e75c156dc4e",
   "metadata": {},
   "outputs": [],
   "source": [
    "df[ 'same_srv_rate'].value_counts()"
   ]
  },
  {
   "cell_type": "code",
   "execution_count": null,
   "id": "c7fca36c-32a4-48a7-9721-5e06917e4169",
   "metadata": {},
   "outputs": [],
   "source": [
    "sns.boxplot(df[ 'same_srv_rate'])"
   ]
  },
  {
   "cell_type": "code",
   "execution_count": null,
   "id": "2db7d3eb-2afb-410f-91f8-6d3852823d5b",
   "metadata": {},
   "outputs": [],
   "source": [
    "sns.kdeplot(df[ 'same_srv_rate'])"
   ]
  },
  {
   "cell_type": "code",
   "execution_count": null,
   "id": "57ef9101-143d-45c1-83cd-78d9ef8d1293",
   "metadata": {},
   "outputs": [],
   "source": [
    "df[ 'same_srv_rate'].describe()"
   ]
  },
  {
   "cell_type": "code",
   "execution_count": null,
   "id": "a5bfd48f-62d1-4307-b742-10b6420a55fc",
   "metadata": {},
   "outputs": [],
   "source": [
    "q1=df['same_srv_rate'].quantile(0.25)\n",
    "q2=df['same_srv_rate'].quantile(0.50)\n",
    "q3=df['same_srv_rate'].quantile(0.75)\n",
    "\n",
    "iqr = q3-q1\n",
    "\n",
    "upper_limit=q3+1.5*iqr\n",
    "lower_limit=q1-1.5*iqr\n",
    "print(upper_limit)\n",
    "print(lower_limit)"
   ]
  },
  {
   "cell_type": "code",
   "execution_count": null,
   "id": "62d8818e-fd63-459c-8250-21238c7d0ce7",
   "metadata": {},
   "outputs": [],
   "source": [
    "df['same_srv_rate']=np.where(df['same_srv_rate']>= upper_limit,upper_limit,df['same_srv_rate'])"
   ]
  },
  {
   "cell_type": "markdown",
   "id": "2718ee2f-2c60-48b2-a452-a52af9a1c9c8",
   "metadata": {},
   "source": [
    "#### 'diff_srv_rate'"
   ]
  },
  {
   "cell_type": "code",
   "execution_count": null,
   "id": "c1030359-7339-44de-ba35-b8e18150b4bd",
   "metadata": {},
   "outputs": [],
   "source": [
    "df[ 'diff_srv_rate'].describe()"
   ]
  },
  {
   "cell_type": "code",
   "execution_count": null,
   "id": "d2809566-4a7d-4815-b6aa-a3d48a9359bf",
   "metadata": {},
   "outputs": [],
   "source": [
    "df[ 'diff_srv_rate'].value_counts()"
   ]
  },
  {
   "cell_type": "code",
   "execution_count": null,
   "id": "5c42590c-0ed7-47dd-ab74-f266fd82800a",
   "metadata": {},
   "outputs": [],
   "source": [
    "sns.boxplot(df[ 'diff_srv_rate'])"
   ]
  },
  {
   "cell_type": "code",
   "execution_count": null,
   "id": "ebf3a762-61ca-4888-8b95-c352867ca364",
   "metadata": {},
   "outputs": [],
   "source": [
    "q1=df['diff_srv_rate'].quantile(0.25)\n",
    "q2=df['diff_srv_rate'].quantile(0.50)\n",
    "q3=df['diff_srv_rate'].quantile(0.75)\n",
    "\n",
    "iqr = q3-q1\n",
    "\n",
    "upper_limit=q3+1.5*iqr\n",
    "lower_limit=q1-1.5*iqr\n",
    "print(upper_limit)\n",
    "print(lower_limit)"
   ]
  },
  {
   "cell_type": "code",
   "execution_count": null,
   "id": "ffba62bc-90b9-48e2-a4d0-b5222e532977",
   "metadata": {},
   "outputs": [],
   "source": [
    "df['diff_srv_rate']=np.where(df['diff_srv_rate']>= upper_limit,upper_limit,df['diff_srv_rate'])"
   ]
  },
  {
   "cell_type": "code",
   "execution_count": null,
   "id": "621f13c9-f781-4071-98d9-703d9500c1d2",
   "metadata": {},
   "outputs": [],
   "source": [
    "sns.boxplot(df['diff_srv_rate'])"
   ]
  },
  {
   "cell_type": "markdown",
   "id": "f55b754c-81f2-41ed-9364-c92a5c1acf71",
   "metadata": {},
   "source": [
    "### 'srv_diff_host_rate'"
   ]
  },
  {
   "cell_type": "code",
   "execution_count": null,
   "id": "5532c14f-4fe5-4257-a5d0-d7afa4ce4307",
   "metadata": {},
   "outputs": [],
   "source": [
    "df['srv_diff_host_rate'].describe()"
   ]
  },
  {
   "cell_type": "code",
   "execution_count": null,
   "id": "63464403-d3a3-4c1a-9cc5-9717f09db83d",
   "metadata": {},
   "outputs": [],
   "source": [
    "df['srv_diff_host_rate'].value_counts()"
   ]
  },
  {
   "cell_type": "code",
   "execution_count": null,
   "id": "e4e0084c-b65e-40f2-98b2-d2109bfa033e",
   "metadata": {},
   "outputs": [],
   "source": [
    "sns.boxplot(df['srv_diff_host_rate'])"
   ]
  },
  {
   "cell_type": "code",
   "execution_count": null,
   "id": "a7980a50-7979-4c5e-a42f-3379304d7687",
   "metadata": {},
   "outputs": [],
   "source": [
    "q1=df['srv_diff_host_rate'].quantile(0.25)\n",
    "q2=df['srv_diff_host_rate'].quantile(0.50)\n",
    "q3=df['srv_diff_host_rate'].quantile(0.75)\n",
    "\n",
    "iqr = q3-q1\n",
    "\n",
    "upper_limit=q3+1.5*iqr\n",
    "lower_limit=q1-1.5*iqr\n",
    "print(upper_limit)\n",
    "print(lower_limit)"
   ]
  },
  {
   "cell_type": "markdown",
   "id": "b135b34e-0404-4ecf-ba53-a74b0fc21d51",
   "metadata": {},
   "source": [
    "#### 'dst_host_count',"
   ]
  },
  {
   "cell_type": "code",
   "execution_count": null,
   "id": "664305a6-417d-442e-95ba-c8b7db0fa444",
   "metadata": {},
   "outputs": [],
   "source": [
    "df[ 'dst_host_count'].describe()"
   ]
  },
  {
   "cell_type": "code",
   "execution_count": null,
   "id": "00a64db2-8548-4ffa-aca7-2784754cdc67",
   "metadata": {},
   "outputs": [],
   "source": [
    "df[ 'dst_host_count'].value_counts()"
   ]
  },
  {
   "cell_type": "code",
   "execution_count": null,
   "id": "b79b4472-545b-42bd-b53f-4f3cb92fcea9",
   "metadata": {},
   "outputs": [],
   "source": [
    "sns.boxplot(df['dst_host_count'])"
   ]
  },
  {
   "cell_type": "code",
   "execution_count": null,
   "id": "d3e667c6-28bd-4878-b5bd-76361f5e67aa",
   "metadata": {},
   "outputs": [],
   "source": [
    "q1=df['dst_host_count'].quantile(0.25)\n",
    "q2=df['dst_host_count'].quantile(0.50)\n",
    "q3=df['dst_host_count'].quantile(0.75)\n",
    "\n",
    "iqr = q3-q1\n",
    "\n",
    "upper_limit=q3+1.5*iqr\n",
    "lower_limit=q1-1.5*iqr\n",
    "print(upper_limit)\n",
    "print(lower_limit)"
   ]
  },
  {
   "cell_type": "code",
   "execution_count": null,
   "id": "34080a8b-7240-4fac-9bf8-455909bb230d",
   "metadata": {},
   "outputs": [],
   "source": [
    "df['dst_host_count']=np.where(df['dst_host_count']>= upper_limit,upper_limit,df['dst_host_count'])"
   ]
  },
  {
   "cell_type": "code",
   "execution_count": null,
   "id": "68a50ca1-55d8-403c-b13b-8191a09a99bd",
   "metadata": {},
   "outputs": [],
   "source": [
    "df['dst_host_count']=np.where(df['dst_host_count']<= lower_limit,lower_limit,df['dst_host_count'])"
   ]
  },
  {
   "cell_type": "code",
   "execution_count": null,
   "id": "7d1bd7b3-b1ef-4517-a77f-fe9d25c75a03",
   "metadata": {},
   "outputs": [],
   "source": [
    "sns.boxplot(df['dst_host_count'])"
   ]
  },
  {
   "cell_type": "markdown",
   "id": "c6775a8b-fe6b-40df-ad87-3b526742c39c",
   "metadata": {},
   "source": [
    "#### 'dst_host_srv_count',"
   ]
  },
  {
   "cell_type": "code",
   "execution_count": null,
   "id": "f19e4fb3-30d6-4abd-967b-3cbf4ec21a27",
   "metadata": {},
   "outputs": [],
   "source": [
    "df[ 'dst_host_srv_count'].value_counts()"
   ]
  },
  {
   "cell_type": "code",
   "execution_count": null,
   "id": "6016f6e2-9abe-4b9d-aa81-6f5628339f65",
   "metadata": {},
   "outputs": [],
   "source": [
    "df[ 'dst_host_srv_count'].describe()"
   ]
  },
  {
   "cell_type": "code",
   "execution_count": null,
   "id": "baf394ef-edff-4ad7-897e-45d6af17b0c5",
   "metadata": {},
   "outputs": [],
   "source": [
    "sns.boxplot(df[ 'dst_host_srv_count'])"
   ]
  },
  {
   "cell_type": "markdown",
   "id": "908337b3-c234-454d-a4d6-3353a29d98d7",
   "metadata": {},
   "source": [
    "### 'dst_host_same_srv_rate',"
   ]
  },
  {
   "cell_type": "code",
   "execution_count": null,
   "id": "0147e8ef-bce5-4363-a6f9-38fd676c3049",
   "metadata": {},
   "outputs": [],
   "source": [
    "df[ 'dst_host_same_srv_rate'].value_counts()"
   ]
  },
  {
   "cell_type": "code",
   "execution_count": null,
   "id": "6789c821-bc4c-4078-a2ef-ebbedbdfcf3b",
   "metadata": {},
   "outputs": [],
   "source": [
    "df[ 'dst_host_same_srv_rate'].describe()"
   ]
  },
  {
   "cell_type": "code",
   "execution_count": null,
   "id": "0287804e-67c7-4451-b6a4-ff324d301004",
   "metadata": {},
   "outputs": [],
   "source": [
    "sns.boxplot(df[ 'dst_host_same_srv_rate'])"
   ]
  },
  {
   "cell_type": "markdown",
   "id": "3c200f97-baf9-46c8-bb28-9460b99ff55c",
   "metadata": {},
   "source": [
    "#### 'dst_host_diff_srv_rate',"
   ]
  },
  {
   "cell_type": "code",
   "execution_count": null,
   "id": "c8e484e1-4823-486f-86bc-e4b75de1572e",
   "metadata": {},
   "outputs": [],
   "source": [
    "df[ 'dst_host_diff_srv_rate'].value_counts()"
   ]
  },
  {
   "cell_type": "code",
   "execution_count": null,
   "id": "c3009c53-4a70-4b8b-8f64-3e4654cc8c70",
   "metadata": {},
   "outputs": [],
   "source": [
    "df['dst_host_diff_srv_rate'].describe()"
   ]
  },
  {
   "cell_type": "code",
   "execution_count": null,
   "id": "f11d3500-3ad7-4c8e-8513-70345a31ae95",
   "metadata": {},
   "outputs": [],
   "source": [
    "sns.boxplot(df[ 'dst_host_diff_srv_rate'])"
   ]
  },
  {
   "cell_type": "code",
   "execution_count": null,
   "id": "39502cd2-df8e-4b72-aa55-d8e754a98969",
   "metadata": {},
   "outputs": [],
   "source": [
    "q1=df['dst_host_diff_srv_rate'].quantile(0.25)\n",
    "q2=df['dst_host_diff_srv_rate'].quantile(0.50)\n",
    "q3=df['dst_host_diff_srv_rate'].quantile(0.75)\n",
    "\n",
    "iqr = q3-q1\n",
    "\n",
    "upper_limit=q3+1.5*iqr\n",
    "lower_limit=q1-1.5*iqr\n",
    "print(upper_limit)\n",
    "print(lower_limit)"
   ]
  },
  {
   "cell_type": "code",
   "execution_count": null,
   "id": "dbcc05b0-a34a-4c90-a909-1b296605691b",
   "metadata": {},
   "outputs": [],
   "source": [
    "df['dst_host_diff_srv_rate']=np.where(df['dst_host_diff_srv_rate']>= upper_limit,upper_limit,df['dst_host_diff_srv_rate'])"
   ]
  },
  {
   "cell_type": "code",
   "execution_count": null,
   "id": "264eb18d-803b-4a54-8a0c-0175767dd99c",
   "metadata": {},
   "outputs": [],
   "source": [
    "df['dst_host_diff_srv_rate']=np.where(df['dst_host_diff_srv_rate']<= lower_limit,lower_limit,df['dst_host_diff_srv_rate'])"
   ]
  },
  {
   "cell_type": "code",
   "execution_count": null,
   "id": "e1b68074-da56-4277-ad54-d177360d1338",
   "metadata": {},
   "outputs": [],
   "source": [
    "sns.boxplot(df[ 'dst_host_diff_srv_rate'])"
   ]
  },
  {
   "cell_type": "markdown",
   "id": "be64210f-2816-40e7-9a8f-4c138180c0e1",
   "metadata": {},
   "source": [
    "#### 'dst_host_same_src_port_rate',"
   ]
  },
  {
   "cell_type": "code",
   "execution_count": null,
   "id": "a8d7a7d1-ca49-4ace-b3af-e7fe82cc144e",
   "metadata": {},
   "outputs": [],
   "source": [
    "df[ 'dst_host_same_src_port_rate'].describe()"
   ]
  },
  {
   "cell_type": "code",
   "execution_count": null,
   "id": "dd40525e-7461-4cca-bf42-8b64dced61a2",
   "metadata": {},
   "outputs": [],
   "source": [
    "df['dst_host_same_src_port_rate'].value_counts()"
   ]
  },
  {
   "cell_type": "code",
   "execution_count": null,
   "id": "9e72b907-26bb-4a07-852c-2da75ee22eff",
   "metadata": {},
   "outputs": [],
   "source": [
    "sns.boxplot(df['dst_host_same_src_port_rate'])"
   ]
  },
  {
   "cell_type": "code",
   "execution_count": null,
   "id": "68c01568-61d7-4d10-9bfe-1bd738574880",
   "metadata": {},
   "outputs": [],
   "source": [
    "q1=df['dst_host_same_src_port_rate'].quantile(0.25)\n",
    "q2=df['dst_host_same_src_port_rate'].quantile(0.50)\n",
    "q3=df['dst_host_same_src_port_rate'].quantile(0.75)\n",
    "\n",
    "iqr = q3-q1\n",
    "\n",
    "upper_limit=q3+1.5*iqr\n",
    "lower_limit=q1-1.5*iqr\n",
    "print(upper_limit)\n",
    "print(lower_limit)"
   ]
  },
  {
   "cell_type": "code",
   "execution_count": null,
   "id": "6258cfb3-de8c-4c3f-899a-fb0aa4f9323b",
   "metadata": {},
   "outputs": [],
   "source": [
    "df['dst_host_same_src_port_rate']=np.where(df['dst_host_same_src_port_rate']>= upper_limit,upper_limit,df['dst_host_same_src_port_rate'])"
   ]
  },
  {
   "cell_type": "code",
   "execution_count": null,
   "id": "bec3adfa-4b62-4b08-998e-bf1b53cecb3d",
   "metadata": {},
   "outputs": [],
   "source": [
    "sns.boxplot(df['dst_host_same_src_port_rate'])"
   ]
  },
  {
   "cell_type": "markdown",
   "id": "702cc942-3cad-40a4-9cea-3ef58b0f76a1",
   "metadata": {},
   "source": [
    "#### 'dst_host_srv_diff_host_rate'"
   ]
  },
  {
   "cell_type": "code",
   "execution_count": null,
   "id": "7a581c7e-9fc7-4f17-a6d1-5cf573614fef",
   "metadata": {},
   "outputs": [],
   "source": [
    "df[ 'dst_host_srv_diff_host_rate'].describe()"
   ]
  },
  {
   "cell_type": "code",
   "execution_count": null,
   "id": "1ba73d62-898b-4848-bb78-fc0069dda69b",
   "metadata": {},
   "outputs": [],
   "source": [
    "df[ 'dst_host_srv_diff_host_rate'].value_counts()"
   ]
  },
  {
   "cell_type": "code",
   "execution_count": null,
   "id": "826eaf6c-5547-4fe2-84db-0cfdbefbce6d",
   "metadata": {},
   "outputs": [],
   "source": [
    "sns.boxplot(df[ 'dst_host_srv_diff_host_rate'])"
   ]
  },
  {
   "cell_type": "code",
   "execution_count": null,
   "id": "d771ffde-cae0-449a-b41c-c197141f21cc",
   "metadata": {},
   "outputs": [],
   "source": [
    "q1=df['dst_host_srv_diff_host_rate'].quantile(0.25)\n",
    "q2=df['dst_host_srv_diff_host_rate'].quantile(0.50)\n",
    "q3=df['dst_host_srv_diff_host_rate'].quantile(0.75)\n",
    "\n",
    "iqr = q3-q1\n",
    "\n",
    "upper_limit=q3+1.5*iqr\n",
    "lower_limit=q1-1.5*iqr\n",
    "print(upper_limit)\n",
    "print(lower_limit)"
   ]
  },
  {
   "cell_type": "code",
   "execution_count": null,
   "id": "42b1eb8a-d1d0-4c0b-94a5-b86e06f63845",
   "metadata": {},
   "outputs": [],
   "source": [
    "df['dst_host_srv_diff_host_rate']=np.where(df['dst_host_srv_diff_host_rate']>= upper_limit,upper_limit,df['dst_host_srv_diff_host_rate'])"
   ]
  },
  {
   "cell_type": "code",
   "execution_count": null,
   "id": "79a89e2e-6ea2-43fd-8462-1b3adfc29cc2",
   "metadata": {},
   "outputs": [],
   "source": [
    "sns.boxplot(df[ 'dst_host_srv_diff_host_rate'])"
   ]
  },
  {
   "cell_type": "markdown",
   "id": "f67db8d3-589a-4a6d-a3c3-47353cd0f701",
   "metadata": {},
   "source": [
    "#### 'dst_host_serror_rate',"
   ]
  },
  {
   "cell_type": "code",
   "execution_count": null,
   "id": "45580a84-7296-45c0-bb9b-63d122eab6d0",
   "metadata": {},
   "outputs": [],
   "source": [
    "df[ 'dst_host_serror_rate'].describe()"
   ]
  },
  {
   "cell_type": "code",
   "execution_count": null,
   "id": "5910fa0a-9eb4-41a7-9150-0fb93a4d48fa",
   "metadata": {},
   "outputs": [],
   "source": [
    "df[ 'dst_host_serror_rate'].value_counts()"
   ]
  },
  {
   "cell_type": "code",
   "execution_count": null,
   "id": "7480938b-76bb-400a-b3f6-e533589487e8",
   "metadata": {},
   "outputs": [],
   "source": [
    "sns.boxplot(df[ 'dst_host_serror_rate'])"
   ]
  },
  {
   "cell_type": "code",
   "execution_count": null,
   "id": "851fde65-6994-480d-887d-dca95ef40d18",
   "metadata": {},
   "outputs": [],
   "source": [
    "q1=df['dst_host_serror_rate'].quantile(0.25)\n",
    "q2=df['dst_host_serror_rate'].quantile(0.50)\n",
    "q3=df['dst_host_serror_rate'].quantile(0.75)\n",
    "\n",
    "iqr = q3-q1\n",
    "\n",
    "upper_limit=q3+1.5*iqr\n",
    "lower_limit=q1-1.5*iqr\n",
    "print(upper_limit)\n",
    "print(lower_limit)"
   ]
  },
  {
   "cell_type": "code",
   "execution_count": null,
   "id": "5a585c4b-0f70-496c-bbae-77cb624b188a",
   "metadata": {},
   "outputs": [],
   "source": [
    "df['dst_host_serror_rate']=np.where(df['dst_host_serror_rate']>= upper_limit,upper_limit,df['dst_host_serror_rate'])"
   ]
  },
  {
   "cell_type": "code",
   "execution_count": null,
   "id": "b33ddde9-d259-48e4-a612-e4e966504a24",
   "metadata": {},
   "outputs": [],
   "source": [
    "sns.boxplot(df[ 'dst_host_serror_rate'])"
   ]
  },
  {
   "cell_type": "markdown",
   "id": "e97b7ff0-7e34-4651-9145-48b8af0295a1",
   "metadata": {},
   "source": [
    "#### 'dst_host_srv_serror_rate',"
   ]
  },
  {
   "cell_type": "code",
   "execution_count": null,
   "id": "70e5bfcd-95e5-48af-b69e-067028d35b40",
   "metadata": {},
   "outputs": [],
   "source": [
    "df[ 'dst_host_srv_serror_rate'].value_counts()"
   ]
  },
  {
   "cell_type": "code",
   "execution_count": null,
   "id": "14c21bfd-e90d-456e-82d6-240d38b56a59",
   "metadata": {},
   "outputs": [],
   "source": [
    "sns.boxplot(df[ 'dst_host_srv_serror_rate'])"
   ]
  },
  {
   "cell_type": "code",
   "execution_count": null,
   "id": "c9faa451-3df1-4021-a9df-1c12e83610b7",
   "metadata": {},
   "outputs": [],
   "source": [
    "df['dst_host_srv_serror_rate'].describe()"
   ]
  },
  {
   "cell_type": "markdown",
   "id": "443e7480-df50-4eec-b572-478322bfc0fb",
   "metadata": {},
   "source": [
    "#### dst_host_rerror_rate',"
   ]
  },
  {
   "cell_type": "code",
   "execution_count": null,
   "id": "f935021d-0741-4b49-851f-d9bf88fc303b",
   "metadata": {},
   "outputs": [],
   "source": [
    "df['dst_host_rerror_rate'].value_counts()"
   ]
  },
  {
   "cell_type": "code",
   "execution_count": null,
   "id": "67e49647-f619-4ec3-9b70-db1027626893",
   "metadata": {},
   "outputs": [],
   "source": [
    "sns.boxplot(df['dst_host_rerror_rate'])"
   ]
  },
  {
   "cell_type": "code",
   "execution_count": null,
   "id": "37934b0b-46b6-4c7d-b911-a570262ca02b",
   "metadata": {},
   "outputs": [],
   "source": [
    "q1=df['dst_host_rerror_rate'].quantile(0.25)\n",
    "q2=df['dst_host_rerror_rate'].quantile(0.50)\n",
    "q3=df['dst_host_rerror_rate'].quantile(0.75)\n",
    "\n",
    "iqr = q3-q1\n",
    "\n",
    "upper_limit=q3+1.5*iqr\n",
    "lower_limit=q1-1.5*iqr\n",
    "print(upper_limit)\n",
    "print(lower_limit)"
   ]
  },
  {
   "cell_type": "code",
   "execution_count": null,
   "id": "36eb5312-28d8-4208-9093-dba459cfb44d",
   "metadata": {},
   "outputs": [],
   "source": [
    "df['dst_host_rerror_rate']=np.where(df['dst_host_rerror_rate'] >= upper_limit, upper_limit, df['dst_host_rerror_rate'])"
   ]
  },
  {
   "cell_type": "code",
   "execution_count": null,
   "id": "3265d314-cce3-4d73-8880-dd7f35dbe902",
   "metadata": {},
   "outputs": [],
   "source": [
    "sns.boxplot(df['dst_host_rerror_rate'])"
   ]
  },
  {
   "cell_type": "markdown",
   "id": "b6acae06-1b95-4d07-a453-28178bde577f",
   "metadata": {},
   "source": [
    "#### 'dst_host_srv_rerror_rate'"
   ]
  },
  {
   "cell_type": "code",
   "execution_count": null,
   "id": "6560dafb-b39e-423a-b634-b55ca75883f0",
   "metadata": {},
   "outputs": [],
   "source": [
    "df['dst_host_srv_rerror_rate'].value_counts()"
   ]
  },
  {
   "cell_type": "code",
   "execution_count": null,
   "id": "a46c58fb-7e31-4164-9ac4-44c0f7f5bb7e",
   "metadata": {},
   "outputs": [],
   "source": [
    "df['dst_host_srv_rerror_rate'].describe()"
   ]
  },
  {
   "cell_type": "code",
   "execution_count": null,
   "id": "e3c75694-cbc5-4e59-ac2a-c7e7141e2cbc",
   "metadata": {},
   "outputs": [],
   "source": [
    "sns.boxplot(df['dst_host_srv_rerror_rate'])"
   ]
  },
  {
   "cell_type": "code",
   "execution_count": null,
   "id": "e28330e3-6339-4713-8a11-c78680b92ac6",
   "metadata": {},
   "outputs": [],
   "source": []
  },
  {
   "cell_type": "code",
   "execution_count": null,
   "id": "71c4bf5a-7bf2-47d9-b1ee-39a3573e2d3f",
   "metadata": {},
   "outputs": [],
   "source": [
    "df.describe().T"
   ]
  },
  {
   "cell_type": "code",
   "execution_count": null,
   "id": "fa757d14-f933-407f-b4ed-947978428c26",
   "metadata": {},
   "outputs": [],
   "source": []
  },
  {
   "cell_type": "markdown",
   "id": "31a93c84-a36c-4ed1-8140-646147e83ff8",
   "metadata": {},
   "source": [
    "#### Logistic Regression"
   ]
  },
  {
   "cell_type": "code",
   "execution_count": null,
   "id": "a0dd1c4e-1fb6-42d1-b273-ed0c56f8a5ef",
   "metadata": {},
   "outputs": [],
   "source": [
    "from sklearn.model_selection import train_test_split\n",
    "from sklearn.preprocessing import StandardScaler\n",
    "from sklearn.linear_model import LogisticRegression\n",
    "from sklearn.metrics import accuracy_score, confusion_matrix, classification_report, precision_score"
   ]
  },
  {
   "cell_type": "code",
   "execution_count": null,
   "id": "15ddcbd0-2cc6-4cbe-85a0-1ccfd7a8920f",
   "metadata": {},
   "outputs": [],
   "source": [
    "correlation_matrix = df.corr()"
   ]
  },
  {
   "cell_type": "code",
   "execution_count": null,
   "id": "8feb8b94-7a42-447a-8949-5506443bbea1",
   "metadata": {},
   "outputs": [],
   "source": [
    "correlation_matrix"
   ]
  },
  {
   "cell_type": "code",
   "execution_count": null,
   "id": "3350ced5-0c27-4f59-b259-1339791e872a",
   "metadata": {},
   "outputs": [],
   "source": [
    "moderate_correlations = correlation_matrix[(correlation_matrix > 0.2) & (correlation_matrix <= 0.8) | \n",
    "                                           (correlation_matrix < -0.2) & (correlation_matrix >= -0.8)]"
   ]
  },
  {
   "cell_type": "code",
   "execution_count": null,
   "id": "556e9898-acc5-4020-ab21-2cf9b4014642",
   "metadata": {},
   "outputs": [],
   "source": [
    "df1=moderate_correlations.iloc[41:].T\n",
    "df1"
   ]
  },
  {
   "cell_type": "code",
   "execution_count": null,
   "id": "ed3bf4ee-7e1d-4519-9195-04557549535e",
   "metadata": {},
   "outputs": [],
   "source": [
    "df1.info()"
   ]
  },
  {
   "cell_type": "code",
   "execution_count": null,
   "id": "87b4a39f-f763-449b-991d-e517e8a9aca6",
   "metadata": {},
   "outputs": [],
   "source": [
    "nan_rows = df1[df1['class'].isna()]\n",
    "nan_rows.T"
   ]
  },
  {
   "cell_type": "code",
   "execution_count": null,
   "id": "e8219dd1-7600-4563-af9e-1a1a1d28811a",
   "metadata": {},
   "outputs": [],
   "source": [
    "nan_list = nan_rows.index.tolist()\n",
    "nan_list"
   ]
  },
  {
   "cell_type": "markdown",
   "id": "11772842-39bc-47b9-a465-4caa79bbf28a",
   "metadata": {},
   "source": [
    "#### Droping the feature"
   ]
  },
  {
   "cell_type": "code",
   "execution_count": null,
   "id": "181e57f1-cd70-4094-96e9-8776172a1b64",
   "metadata": {},
   "outputs": [],
   "source": [
    "x = df.drop(columns= nan_list, axis=1)\n",
    "y = df['class']"
   ]
  },
  {
   "cell_type": "code",
   "execution_count": null,
   "id": "0365e606-73f2-4ff8-ac7d-ee8d6b27d79e",
   "metadata": {},
   "outputs": [],
   "source": [
    "x"
   ]
  },
  {
   "cell_type": "code",
   "execution_count": null,
   "id": "4a130003-f686-4622-a6c6-16e6f8d8ae7a",
   "metadata": {},
   "outputs": [],
   "source": [
    "y"
   ]
  },
  {
   "cell_type": "markdown",
   "id": "0d5ad54e-b846-4f3c-b986-30fabfe5ecea",
   "metadata": {},
   "source": [
    "#### data split"
   ]
  },
  {
   "cell_type": "code",
   "execution_count": null,
   "id": "22f1de5e-9245-4c6d-a7c4-f351c85f7974",
   "metadata": {},
   "outputs": [],
   "source": [
    "x_train,x_test,y_train,y_test = train_test_split(x,y,train_size=0.70,random_state=18)"
   ]
  },
  {
   "cell_type": "code",
   "execution_count": null,
   "id": "2924ba7d-a09f-4a7f-a5c1-e213048839cd",
   "metadata": {},
   "outputs": [],
   "source": [
    "x_train"
   ]
  },
  {
   "cell_type": "code",
   "execution_count": null,
   "id": "3a670218-aa84-4597-afc1-4caf7edd56cf",
   "metadata": {},
   "outputs": [],
   "source": [
    "y_train"
   ]
  },
  {
   "cell_type": "code",
   "execution_count": null,
   "id": "2cacd7c0-b0eb-4b6c-a98b-9c3363bba307",
   "metadata": {},
   "outputs": [],
   "source": [
    "lrc = LogisticRegression()\n",
    "lrc.fit(x_train,y_train)"
   ]
  },
  {
   "cell_type": "code",
   "execution_count": null,
   "id": "636e064b-5077-44d2-b8ef-264530063c65",
   "metadata": {},
   "outputs": [],
   "source": [
    "y_pred = lrc.predict(x_test)"
   ]
  },
  {
   "cell_type": "code",
   "execution_count": null,
   "id": "b3bd2c4b-29b8-41fd-8d70-b94cdc254e04",
   "metadata": {},
   "outputs": [],
   "source": [
    "y_pred"
   ]
  },
  {
   "cell_type": "code",
   "execution_count": null,
   "id": "915419a3-df97-4c7f-906a-dfdf6f36fa10",
   "metadata": {},
   "outputs": [],
   "source": [
    "report = classification_report(y_test, y_pred)\n",
    "print(report)"
   ]
  },
  {
   "cell_type": "code",
   "execution_count": null,
   "id": "53bb3248-d43c-4ea2-96e6-a7dde40f0a76",
   "metadata": {},
   "outputs": [],
   "source": [
    "cm = confusion_matrix(y_test, y_pred)\n",
    "cm"
   ]
  },
  {
   "cell_type": "code",
   "execution_count": null,
   "id": "82728455-8a60-4cc4-968e-a8b34e8b3520",
   "metadata": {},
   "outputs": [],
   "source": [
    "Accuracy = accuracy_score(y_test,y_pred)\n",
    "precision = precision_score(y_test,y_pred)\n",
    "print(\"Accuracy: \", Accuracy)\n",
    "print(\"Precision: \", precision)"
   ]
  },
  {
   "cell_type": "code",
   "execution_count": null,
   "id": "0e98ffab-6f8a-468e-a865-4fc0c624bb68",
   "metadata": {},
   "outputs": [],
   "source": [
    "plt.figure(figsize=(6, 4))\n",
    "sns.heatmap(cm, annot=True, fmt='d', cbar=False)\n",
    "plt.xlabel('Predicted')\n",
    "plt.ylabel('Actual')\n",
    "plt.title(\"Confusion Matrix\")\n",
    "plt.show()"
   ]
  },
  {
   "cell_type": "code",
   "execution_count": null,
   "id": "119bc85a-36cd-448b-9210-3e42ee09f3af",
   "metadata": {},
   "outputs": [],
   "source": [
    "x_test"
   ]
  },
  {
   "cell_type": "markdown",
   "id": "349bec63-6c4d-48ce-8c82-19cef95c77bc",
   "metadata": {},
   "source": [
    "#### K-Nearest Neighbors Classifier"
   ]
  },
  {
   "cell_type": "code",
   "execution_count": null,
   "id": "dce846d9-16b7-46a5-9be3-87c44b6eb556",
   "metadata": {},
   "outputs": [],
   "source": [
    "from sklearn.neighbors import KNeighborsClassifier"
   ]
  },
  {
   "cell_type": "code",
   "execution_count": null,
   "id": "0360b6f9-cdec-4876-af79-d24652a394a5",
   "metadata": {},
   "outputs": [],
   "source": [
    "knn=KNeighborsClassifier()\n",
    "knn.fit(x_train,y_train)"
   ]
  },
  {
   "cell_type": "code",
   "execution_count": null,
   "id": "59d7d7a8-36a8-45d1-8065-5d618b9c568e",
   "metadata": {},
   "outputs": [],
   "source": [
    "y_pred = knn.predict(x_test)"
   ]
  },
  {
   "cell_type": "code",
   "execution_count": null,
   "id": "ec7eb4f3-c30c-4cf6-9c9d-2d46ed391a62",
   "metadata": {},
   "outputs": [],
   "source": []
  },
  {
   "cell_type": "code",
   "execution_count": null,
   "id": "e0018df0-7509-4fa0-ae72-c5cbc13a2b71",
   "metadata": {},
   "outputs": [],
   "source": []
  },
  {
   "cell_type": "code",
   "execution_count": null,
   "id": "26aeac1c-af24-401c-ac54-62b6bfefe6ea",
   "metadata": {},
   "outputs": [],
   "source": []
  },
  {
   "cell_type": "code",
   "execution_count": null,
   "id": "7ea1cebd-7d07-4bda-905d-ffb5df2f2bfa",
   "metadata": {},
   "outputs": [],
   "source": []
  },
  {
   "cell_type": "code",
   "execution_count": null,
   "id": "8a21b90d-57f1-4d32-b463-b872248e6ced",
   "metadata": {},
   "outputs": [],
   "source": []
  },
  {
   "cell_type": "code",
   "execution_count": null,
   "id": "e156b642-493b-4ca7-a314-e526fa6b7725",
   "metadata": {},
   "outputs": [],
   "source": []
  },
  {
   "cell_type": "code",
   "execution_count": null,
   "id": "cf0ede01-8271-43e4-a2cb-6c59e14a75ca",
   "metadata": {},
   "outputs": [],
   "source": []
  },
  {
   "cell_type": "code",
   "execution_count": null,
   "id": "13b76101-42ed-4561-8914-38d102c98b75",
   "metadata": {},
   "outputs": [],
   "source": []
  },
  {
   "cell_type": "code",
   "execution_count": null,
   "id": "7dfc5208-c32a-415d-9320-9f085e807b79",
   "metadata": {},
   "outputs": [],
   "source": []
  },
  {
   "cell_type": "code",
   "execution_count": null,
   "id": "0f4f164d-e93c-40c5-a97f-9ce4093c8460",
   "metadata": {},
   "outputs": [],
   "source": []
  },
  {
   "cell_type": "code",
   "execution_count": null,
   "id": "ce3c8f2f-2411-4f54-8574-66ade60487a1",
   "metadata": {},
   "outputs": [],
   "source": []
  },
  {
   "cell_type": "code",
   "execution_count": null,
   "id": "92e47fce-b95b-4d6b-84a0-f4e196bd13da",
   "metadata": {},
   "outputs": [],
   "source": []
  },
  {
   "cell_type": "code",
   "execution_count": null,
   "id": "7113eaae-f7c9-4f23-8d78-abc9fc675a1a",
   "metadata": {},
   "outputs": [],
   "source": []
  },
  {
   "cell_type": "code",
   "execution_count": null,
   "id": "fa3c300a-585f-4297-97d0-8b8f22956589",
   "metadata": {},
   "outputs": [],
   "source": []
  },
  {
   "cell_type": "code",
   "execution_count": null,
   "id": "61628c5e-6ad9-4734-89b0-08479ad9fe47",
   "metadata": {},
   "outputs": [],
   "source": []
  },
  {
   "cell_type": "code",
   "execution_count": null,
   "id": "d903eff2-ae2d-4cd4-9a9b-d1a6c311153c",
   "metadata": {},
   "outputs": [],
   "source": []
  },
  {
   "cell_type": "code",
   "execution_count": null,
   "id": "91d4d252-806c-4dd5-a5ab-e8dd3137a790",
   "metadata": {},
   "outputs": [],
   "source": []
  },
  {
   "cell_type": "code",
   "execution_count": null,
   "id": "39898625-334c-4d62-8340-8b68e4049ec7",
   "metadata": {},
   "outputs": [],
   "source": []
  },
  {
   "cell_type": "code",
   "execution_count": null,
   "id": "2a427021-1ee7-41aa-8522-d935dad9452c",
   "metadata": {},
   "outputs": [],
   "source": []
  },
  {
   "cell_type": "code",
   "execution_count": null,
   "id": "227fd268-a297-4ecc-83d7-4613998b470f",
   "metadata": {},
   "outputs": [],
   "source": []
  },
  {
   "cell_type": "code",
   "execution_count": null,
   "id": "a922ecc1-2214-42db-9a07-214439117287",
   "metadata": {},
   "outputs": [],
   "source": []
  },
  {
   "cell_type": "code",
   "execution_count": null,
   "id": "eb39f7a3-c9ea-408e-8b30-11392e2c5fd8",
   "metadata": {},
   "outputs": [],
   "source": []
  },
  {
   "cell_type": "code",
   "execution_count": null,
   "id": "92cc6245-6c8a-4b93-b201-1e7edee67a25",
   "metadata": {},
   "outputs": [],
   "source": []
  }
 ],
 "metadata": {
  "kernelspec": {
   "display_name": "Python 3 (ipykernel)",
   "language": "python",
   "name": "python3"
  },
  "language_info": {
   "codemirror_mode": {
    "name": "ipython",
    "version": 3
   },
   "file_extension": ".py",
   "mimetype": "text/x-python",
   "name": "python",
   "nbconvert_exporter": "python",
   "pygments_lexer": "ipython3",
   "version": "3.11.7"
  }
 },
 "nbformat": 4,
 "nbformat_minor": 5
}
